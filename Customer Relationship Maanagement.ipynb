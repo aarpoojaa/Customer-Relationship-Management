{
 "cells": [
  {
   "cell_type": "code",
   "execution_count": 1,
   "metadata": {},
   "outputs": [],
   "source": [
    "import pandas as pd\n",
    "import matplotlib.pyplot as plt\n",
    "import datetime\n",
    "import numpy as np\n",
    "import turicreate as tc\n",
    "from sklearn.model_selection import train_test_split\n",
    "import seaborn as sns\n",
    "import scipy\n",
    "import implicit\n",
    "from scipy.sparse import csr_matrix, lil_matrix\n",
    "from scipy import spatial\n",
    "from scipy import stats\n",
    "from sklearn.cluster import KMeans\n",
    "%matplotlib inline"
   ]
  },
  {
   "cell_type": "markdown",
   "metadata": {},
   "source": [
    "# CHAPTER 2: Dataset - UK retail transactions (UCI)"
   ]
  },
  {
   "cell_type": "markdown",
   "metadata": {},
   "source": [
    "This dataset, obtained from UCI is about retail transaction history in the UK and other countries. To continue further, data cleaning and preprocessing is done first, followed by EDA."
   ]
  },
  {
   "cell_type": "code",
   "execution_count": 2,
   "metadata": {
    "scrolled": true
   },
   "outputs": [],
   "source": [
    "data = pd.read_excel(\"online_retail_II.xlsx\")"
   ]
  },
  {
   "cell_type": "code",
   "execution_count": 3,
   "metadata": {},
   "outputs": [
    {
     "data": {
      "text/html": [
       "<div>\n",
       "<style scoped>\n",
       "    .dataframe tbody tr th:only-of-type {\n",
       "        vertical-align: middle;\n",
       "    }\n",
       "\n",
       "    .dataframe tbody tr th {\n",
       "        vertical-align: top;\n",
       "    }\n",
       "\n",
       "    .dataframe thead th {\n",
       "        text-align: right;\n",
       "    }\n",
       "</style>\n",
       "<table border=\"1\" class=\"dataframe\">\n",
       "  <thead>\n",
       "    <tr style=\"text-align: right;\">\n",
       "      <th></th>\n",
       "      <th>Invoice</th>\n",
       "      <th>StockCode</th>\n",
       "      <th>Description</th>\n",
       "      <th>Quantity</th>\n",
       "      <th>InvoiceDate</th>\n",
       "      <th>Price</th>\n",
       "      <th>Customer ID</th>\n",
       "      <th>Country</th>\n",
       "    </tr>\n",
       "  </thead>\n",
       "  <tbody>\n",
       "    <tr>\n",
       "      <td>0</td>\n",
       "      <td>489434</td>\n",
       "      <td>85048</td>\n",
       "      <td>15CM CHRISTMAS GLASS BALL 20 LIGHTS</td>\n",
       "      <td>12</td>\n",
       "      <td>2009-12-01 07:45:00</td>\n",
       "      <td>6.95</td>\n",
       "      <td>13085.0</td>\n",
       "      <td>United Kingdom</td>\n",
       "    </tr>\n",
       "    <tr>\n",
       "      <td>1</td>\n",
       "      <td>489434</td>\n",
       "      <td>79323P</td>\n",
       "      <td>PINK CHERRY LIGHTS</td>\n",
       "      <td>12</td>\n",
       "      <td>2009-12-01 07:45:00</td>\n",
       "      <td>6.75</td>\n",
       "      <td>13085.0</td>\n",
       "      <td>United Kingdom</td>\n",
       "    </tr>\n",
       "    <tr>\n",
       "      <td>2</td>\n",
       "      <td>489434</td>\n",
       "      <td>79323W</td>\n",
       "      <td>WHITE CHERRY LIGHTS</td>\n",
       "      <td>12</td>\n",
       "      <td>2009-12-01 07:45:00</td>\n",
       "      <td>6.75</td>\n",
       "      <td>13085.0</td>\n",
       "      <td>United Kingdom</td>\n",
       "    </tr>\n",
       "    <tr>\n",
       "      <td>3</td>\n",
       "      <td>489434</td>\n",
       "      <td>22041</td>\n",
       "      <td>RECORD FRAME 7\" SINGLE SIZE</td>\n",
       "      <td>48</td>\n",
       "      <td>2009-12-01 07:45:00</td>\n",
       "      <td>2.10</td>\n",
       "      <td>13085.0</td>\n",
       "      <td>United Kingdom</td>\n",
       "    </tr>\n",
       "    <tr>\n",
       "      <td>4</td>\n",
       "      <td>489434</td>\n",
       "      <td>21232</td>\n",
       "      <td>STRAWBERRY CERAMIC TRINKET BOX</td>\n",
       "      <td>24</td>\n",
       "      <td>2009-12-01 07:45:00</td>\n",
       "      <td>1.25</td>\n",
       "      <td>13085.0</td>\n",
       "      <td>United Kingdom</td>\n",
       "    </tr>\n",
       "    <tr>\n",
       "      <td>...</td>\n",
       "      <td>...</td>\n",
       "      <td>...</td>\n",
       "      <td>...</td>\n",
       "      <td>...</td>\n",
       "      <td>...</td>\n",
       "      <td>...</td>\n",
       "      <td>...</td>\n",
       "      <td>...</td>\n",
       "    </tr>\n",
       "    <tr>\n",
       "      <td>525456</td>\n",
       "      <td>538171</td>\n",
       "      <td>22271</td>\n",
       "      <td>FELTCRAFT DOLL ROSIE</td>\n",
       "      <td>2</td>\n",
       "      <td>2010-12-09 20:01:00</td>\n",
       "      <td>2.95</td>\n",
       "      <td>17530.0</td>\n",
       "      <td>United Kingdom</td>\n",
       "    </tr>\n",
       "    <tr>\n",
       "      <td>525457</td>\n",
       "      <td>538171</td>\n",
       "      <td>22750</td>\n",
       "      <td>FELTCRAFT PRINCESS LOLA DOLL</td>\n",
       "      <td>1</td>\n",
       "      <td>2010-12-09 20:01:00</td>\n",
       "      <td>3.75</td>\n",
       "      <td>17530.0</td>\n",
       "      <td>United Kingdom</td>\n",
       "    </tr>\n",
       "    <tr>\n",
       "      <td>525458</td>\n",
       "      <td>538171</td>\n",
       "      <td>22751</td>\n",
       "      <td>FELTCRAFT PRINCESS OLIVIA DOLL</td>\n",
       "      <td>1</td>\n",
       "      <td>2010-12-09 20:01:00</td>\n",
       "      <td>3.75</td>\n",
       "      <td>17530.0</td>\n",
       "      <td>United Kingdom</td>\n",
       "    </tr>\n",
       "    <tr>\n",
       "      <td>525459</td>\n",
       "      <td>538171</td>\n",
       "      <td>20970</td>\n",
       "      <td>PINK FLORAL FELTCRAFT SHOULDER BAG</td>\n",
       "      <td>2</td>\n",
       "      <td>2010-12-09 20:01:00</td>\n",
       "      <td>3.75</td>\n",
       "      <td>17530.0</td>\n",
       "      <td>United Kingdom</td>\n",
       "    </tr>\n",
       "    <tr>\n",
       "      <td>525460</td>\n",
       "      <td>538171</td>\n",
       "      <td>21931</td>\n",
       "      <td>JUMBO STORAGE BAG SUKI</td>\n",
       "      <td>2</td>\n",
       "      <td>2010-12-09 20:01:00</td>\n",
       "      <td>1.95</td>\n",
       "      <td>17530.0</td>\n",
       "      <td>United Kingdom</td>\n",
       "    </tr>\n",
       "  </tbody>\n",
       "</table>\n",
       "<p>525461 rows × 8 columns</p>\n",
       "</div>"
      ],
      "text/plain": [
       "       Invoice StockCode                          Description  Quantity  \\\n",
       "0       489434     85048  15CM CHRISTMAS GLASS BALL 20 LIGHTS        12   \n",
       "1       489434    79323P                   PINK CHERRY LIGHTS        12   \n",
       "2       489434    79323W                  WHITE CHERRY LIGHTS        12   \n",
       "3       489434     22041         RECORD FRAME 7\" SINGLE SIZE         48   \n",
       "4       489434     21232       STRAWBERRY CERAMIC TRINKET BOX        24   \n",
       "...        ...       ...                                  ...       ...   \n",
       "525456  538171     22271                 FELTCRAFT DOLL ROSIE         2   \n",
       "525457  538171     22750         FELTCRAFT PRINCESS LOLA DOLL         1   \n",
       "525458  538171     22751       FELTCRAFT PRINCESS OLIVIA DOLL         1   \n",
       "525459  538171     20970   PINK FLORAL FELTCRAFT SHOULDER BAG         2   \n",
       "525460  538171     21931               JUMBO STORAGE BAG SUKI         2   \n",
       "\n",
       "               InvoiceDate  Price  Customer ID         Country  \n",
       "0      2009-12-01 07:45:00   6.95      13085.0  United Kingdom  \n",
       "1      2009-12-01 07:45:00   6.75      13085.0  United Kingdom  \n",
       "2      2009-12-01 07:45:00   6.75      13085.0  United Kingdom  \n",
       "3      2009-12-01 07:45:00   2.10      13085.0  United Kingdom  \n",
       "4      2009-12-01 07:45:00   1.25      13085.0  United Kingdom  \n",
       "...                    ...    ...          ...             ...  \n",
       "525456 2010-12-09 20:01:00   2.95      17530.0  United Kingdom  \n",
       "525457 2010-12-09 20:01:00   3.75      17530.0  United Kingdom  \n",
       "525458 2010-12-09 20:01:00   3.75      17530.0  United Kingdom  \n",
       "525459 2010-12-09 20:01:00   3.75      17530.0  United Kingdom  \n",
       "525460 2010-12-09 20:01:00   1.95      17530.0  United Kingdom  \n",
       "\n",
       "[525461 rows x 8 columns]"
      ]
     },
     "execution_count": 3,
     "metadata": {},
     "output_type": "execute_result"
    }
   ],
   "source": [
    "data"
   ]
  },
  {
   "cell_type": "markdown",
   "metadata": {},
   "source": [
    "# CHAPTERS 5, 6 : DATA CLEANING and EXPLORATORY DATA ANALYSIS"
   ]
  },
  {
   "cell_type": "markdown",
   "metadata": {},
   "source": [
    "Checking for null values:"
   ]
  },
  {
   "cell_type": "code",
   "execution_count": 4,
   "metadata": {},
   "outputs": [
    {
     "data": {
      "text/plain": [
       "Invoice             0\n",
       "StockCode           0\n",
       "Description      2928\n",
       "Quantity            0\n",
       "InvoiceDate         0\n",
       "Price               0\n",
       "Customer ID    107927\n",
       "Country             0\n",
       "dtype: int64"
      ]
     },
     "execution_count": 4,
     "metadata": {},
     "output_type": "execute_result"
    }
   ],
   "source": [
    "data.isna().sum()"
   ]
  },
  {
   "cell_type": "code",
   "execution_count": 5,
   "metadata": {},
   "outputs": [
    {
     "data": {
      "text/plain": [
       "Invoice                object\n",
       "StockCode              object\n",
       "Description            object\n",
       "Quantity                int64\n",
       "InvoiceDate    datetime64[ns]\n",
       "Price                 float64\n",
       "Customer ID           float64\n",
       "Country                object\n",
       "dtype: object"
      ]
     },
     "execution_count": 5,
     "metadata": {},
     "output_type": "execute_result"
    }
   ],
   "source": [
    "#checking for datatypes of all the attributes of the dataset:\n",
    "data.dtypes"
   ]
  },
  {
   "cell_type": "code",
   "execution_count": 6,
   "metadata": {},
   "outputs": [
    {
     "data": {
      "text/html": [
       "<div>\n",
       "<style scoped>\n",
       "    .dataframe tbody tr th:only-of-type {\n",
       "        vertical-align: middle;\n",
       "    }\n",
       "\n",
       "    .dataframe tbody tr th {\n",
       "        vertical-align: top;\n",
       "    }\n",
       "\n",
       "    .dataframe thead th {\n",
       "        text-align: right;\n",
       "    }\n",
       "</style>\n",
       "<table border=\"1\" class=\"dataframe\">\n",
       "  <thead>\n",
       "    <tr style=\"text-align: right;\">\n",
       "      <th></th>\n",
       "      <th>Quantity</th>\n",
       "      <th>Price</th>\n",
       "      <th>Customer ID</th>\n",
       "    </tr>\n",
       "  </thead>\n",
       "  <tbody>\n",
       "    <tr>\n",
       "      <td>count</td>\n",
       "      <td>525461.000000</td>\n",
       "      <td>525461.000000</td>\n",
       "      <td>417534.000000</td>\n",
       "    </tr>\n",
       "    <tr>\n",
       "      <td>mean</td>\n",
       "      <td>10.337667</td>\n",
       "      <td>4.688834</td>\n",
       "      <td>15360.645478</td>\n",
       "    </tr>\n",
       "    <tr>\n",
       "      <td>std</td>\n",
       "      <td>107.424110</td>\n",
       "      <td>146.126914</td>\n",
       "      <td>1680.811316</td>\n",
       "    </tr>\n",
       "    <tr>\n",
       "      <td>min</td>\n",
       "      <td>-9600.000000</td>\n",
       "      <td>-53594.360000</td>\n",
       "      <td>12346.000000</td>\n",
       "    </tr>\n",
       "    <tr>\n",
       "      <td>25%</td>\n",
       "      <td>1.000000</td>\n",
       "      <td>1.250000</td>\n",
       "      <td>13983.000000</td>\n",
       "    </tr>\n",
       "    <tr>\n",
       "      <td>50%</td>\n",
       "      <td>3.000000</td>\n",
       "      <td>2.100000</td>\n",
       "      <td>15311.000000</td>\n",
       "    </tr>\n",
       "    <tr>\n",
       "      <td>75%</td>\n",
       "      <td>10.000000</td>\n",
       "      <td>4.210000</td>\n",
       "      <td>16799.000000</td>\n",
       "    </tr>\n",
       "    <tr>\n",
       "      <td>max</td>\n",
       "      <td>19152.000000</td>\n",
       "      <td>25111.090000</td>\n",
       "      <td>18287.000000</td>\n",
       "    </tr>\n",
       "  </tbody>\n",
       "</table>\n",
       "</div>"
      ],
      "text/plain": [
       "            Quantity          Price    Customer ID\n",
       "count  525461.000000  525461.000000  417534.000000\n",
       "mean       10.337667       4.688834   15360.645478\n",
       "std       107.424110     146.126914    1680.811316\n",
       "min     -9600.000000  -53594.360000   12346.000000\n",
       "25%         1.000000       1.250000   13983.000000\n",
       "50%         3.000000       2.100000   15311.000000\n",
       "75%        10.000000       4.210000   16799.000000\n",
       "max     19152.000000   25111.090000   18287.000000"
      ]
     },
     "execution_count": 6,
     "metadata": {},
     "output_type": "execute_result"
    }
   ],
   "source": [
    "#Statistical summary of the attributes of the dataset\n",
    "data.describe()"
   ]
  },
  {
   "cell_type": "code",
   "execution_count": 7,
   "metadata": {},
   "outputs": [
    {
     "name": "stdout",
     "output_type": "stream",
     "text": [
      "The countries in the retail dataset are: ['United Kingdom' 'France' 'USA' 'Belgium' 'Australia' 'EIRE' 'Germany'\n",
      " 'Portugal' 'Japan' 'Denmark' 'Nigeria' 'Netherlands' 'Poland' 'Spain'\n",
      " 'Channel Islands' 'Italy' 'Cyprus' 'Greece' 'Norway' 'Austria' 'Sweden'\n",
      " 'United Arab Emirates' 'Finland' 'Switzerland' 'Unspecified' 'Malta'\n",
      " 'Bahrain' 'RSA' 'Bermuda' 'Hong Kong' 'Singapore' 'Thailand' 'Israel'\n",
      " 'Lithuania' 'West Indies' 'Lebanon' 'Korea' 'Brazil' 'Canada' 'Iceland']\n"
     ]
    }
   ],
   "source": [
    "#Checking how diverse the data set is in terms of Country:\n",
    "countries = data['Country'].unique()\n",
    "print(\"The countries in the retail dataset are:\", countries)"
   ]
  },
  {
   "cell_type": "code",
   "execution_count": 8,
   "metadata": {},
   "outputs": [
    {
     "name": "stdout",
     "output_type": "stream",
     "text": [
      "Number of products: 4632\n",
      "Number of customers: 4384\n",
      "Number of unique/cumulative orders placed: 28816\n"
     ]
    }
   ],
   "source": [
    "#Checking how many distinct products, customers and transactions which are our attributes of interest\n",
    "products = data['StockCode'].unique()\n",
    "customers = data['Customer ID'].unique()\n",
    "transactions = data['Invoice'].unique()\n",
    "print(\"Number of products:\", len(products))\n",
    "print(\"Number of customers:\", len(customers))\n",
    "print(\"Number of unique/cumulative orders placed:\", len(transactions))"
   ]
  },
  {
   "cell_type": "code",
   "execution_count": 9,
   "metadata": {},
   "outputs": [
    {
     "data": {
      "text/html": [
       "<div>\n",
       "<style scoped>\n",
       "    .dataframe tbody tr th:only-of-type {\n",
       "        vertical-align: middle;\n",
       "    }\n",
       "\n",
       "    .dataframe tbody tr th {\n",
       "        vertical-align: top;\n",
       "    }\n",
       "\n",
       "    .dataframe thead th {\n",
       "        text-align: right;\n",
       "    }\n",
       "</style>\n",
       "<table border=\"1\" class=\"dataframe\">\n",
       "  <thead>\n",
       "    <tr style=\"text-align: right;\">\n",
       "      <th></th>\n",
       "      <th>Product</th>\n",
       "      <th>Units Sold</th>\n",
       "    </tr>\n",
       "  </thead>\n",
       "  <tbody>\n",
       "    <tr>\n",
       "      <td>0</td>\n",
       "      <td>85123A</td>\n",
       "      <td>3516</td>\n",
       "    </tr>\n",
       "    <tr>\n",
       "      <td>1</td>\n",
       "      <td>22423</td>\n",
       "      <td>2221</td>\n",
       "    </tr>\n",
       "    <tr>\n",
       "      <td>2</td>\n",
       "      <td>85099B</td>\n",
       "      <td>2057</td>\n",
       "    </tr>\n",
       "    <tr>\n",
       "      <td>3</td>\n",
       "      <td>21212</td>\n",
       "      <td>1933</td>\n",
       "    </tr>\n",
       "    <tr>\n",
       "      <td>4</td>\n",
       "      <td>21232</td>\n",
       "      <td>1843</td>\n",
       "    </tr>\n",
       "    <tr>\n",
       "      <td>...</td>\n",
       "      <td>...</td>\n",
       "      <td>...</td>\n",
       "    </tr>\n",
       "    <tr>\n",
       "      <td>4627</td>\n",
       "      <td>90182A</td>\n",
       "      <td>1</td>\n",
       "    </tr>\n",
       "    <tr>\n",
       "      <td>4628</td>\n",
       "      <td>85160b</td>\n",
       "      <td>1</td>\n",
       "    </tr>\n",
       "    <tr>\n",
       "      <td>4629</td>\n",
       "      <td>47340B</td>\n",
       "      <td>1</td>\n",
       "    </tr>\n",
       "    <tr>\n",
       "      <td>4630</td>\n",
       "      <td>85025A</td>\n",
       "      <td>1</td>\n",
       "    </tr>\n",
       "    <tr>\n",
       "      <td>4631</td>\n",
       "      <td>20710</td>\n",
       "      <td>1</td>\n",
       "    </tr>\n",
       "  </tbody>\n",
       "</table>\n",
       "<p>4632 rows × 2 columns</p>\n",
       "</div>"
      ],
      "text/plain": [
       "     Product  Units Sold\n",
       "0     85123A        3516\n",
       "1      22423        2221\n",
       "2     85099B        2057\n",
       "3      21212        1933\n",
       "4      21232        1843\n",
       "...      ...         ...\n",
       "4627  90182A           1\n",
       "4628  85160b           1\n",
       "4629  47340B           1\n",
       "4630  85025A           1\n",
       "4631   20710           1\n",
       "\n",
       "[4632 rows x 2 columns]"
      ]
     },
     "execution_count": 9,
     "metadata": {},
     "output_type": "execute_result"
    }
   ],
   "source": [
    "#No of units sold per product\n",
    "noOfOrders = data['StockCode'].value_counts()\n",
    "unitsSold = pd.DataFrame(data = {'Product': noOfOrders.index.values, 'Units Sold': noOfOrders.values})\n",
    "unitsSold"
   ]
  },
  {
   "cell_type": "code",
   "execution_count": 10,
   "metadata": {},
   "outputs": [
    {
     "data": {
      "text/html": [
       "<div>\n",
       "<style scoped>\n",
       "    .dataframe tbody tr th:only-of-type {\n",
       "        vertical-align: middle;\n",
       "    }\n",
       "\n",
       "    .dataframe tbody tr th {\n",
       "        vertical-align: top;\n",
       "    }\n",
       "\n",
       "    .dataframe thead th {\n",
       "        text-align: right;\n",
       "    }\n",
       "</style>\n",
       "<table border=\"1\" class=\"dataframe\">\n",
       "  <thead>\n",
       "    <tr style=\"text-align: right;\">\n",
       "      <th></th>\n",
       "      <th>Customer</th>\n",
       "      <th>Units Bought</th>\n",
       "    </tr>\n",
       "  </thead>\n",
       "  <tbody>\n",
       "    <tr>\n",
       "      <td>1110</td>\n",
       "      <td>13902.0</td>\n",
       "      <td>218090</td>\n",
       "    </tr>\n",
       "    <tr>\n",
       "      <td>1662</td>\n",
       "      <td>14646.0</td>\n",
       "      <td>168501</td>\n",
       "    </tr>\n",
       "    <tr>\n",
       "      <td>957</td>\n",
       "      <td>13694.0</td>\n",
       "      <td>123639</td>\n",
       "    </tr>\n",
       "    <tr>\n",
       "      <td>4254</td>\n",
       "      <td>18102.0</td>\n",
       "      <td>122988</td>\n",
       "    </tr>\n",
       "    <tr>\n",
       "      <td>1291</td>\n",
       "      <td>14156.0</td>\n",
       "      <td>106885</td>\n",
       "    </tr>\n",
       "    <tr>\n",
       "      <td>...</td>\n",
       "      <td>...</td>\n",
       "      <td>...</td>\n",
       "    </tr>\n",
       "    <tr>\n",
       "      <td>3995</td>\n",
       "      <td>17755.0</td>\n",
       "      <td>-30</td>\n",
       "    </tr>\n",
       "    <tr>\n",
       "      <td>2483</td>\n",
       "      <td>15767.0</td>\n",
       "      <td>-50</td>\n",
       "    </tr>\n",
       "    <tr>\n",
       "      <td>2611</td>\n",
       "      <td>15935.0</td>\n",
       "      <td>-286</td>\n",
       "    </tr>\n",
       "    <tr>\n",
       "      <td>1432</td>\n",
       "      <td>14337.0</td>\n",
       "      <td>-393</td>\n",
       "    </tr>\n",
       "    <tr>\n",
       "      <td>513</td>\n",
       "      <td>13091.0</td>\n",
       "      <td>-1535</td>\n",
       "    </tr>\n",
       "  </tbody>\n",
       "</table>\n",
       "<p>4383 rows × 2 columns</p>\n",
       "</div>"
      ],
      "text/plain": [
       "      Customer  Units Bought\n",
       "1110   13902.0        218090\n",
       "1662   14646.0        168501\n",
       "957    13694.0        123639\n",
       "4254   18102.0        122988\n",
       "1291   14156.0        106885\n",
       "...        ...           ...\n",
       "3995   17755.0           -30\n",
       "2483   15767.0           -50\n",
       "2611   15935.0          -286\n",
       "1432   14337.0          -393\n",
       "513    13091.0         -1535\n",
       "\n",
       "[4383 rows x 2 columns]"
      ]
     },
     "execution_count": 10,
     "metadata": {},
     "output_type": "execute_result"
    }
   ],
   "source": [
    "#Shopping trends based on Customers\n",
    "shopaholic = data.groupby('Customer ID')['Quantity'].sum()\n",
    "frequency = pd.DataFrame(data = {'Customer': shopaholic.index.values, 'Units Bought': shopaholic.values})\n",
    "frequency.sort_values(by = 'Units Bought', ascending = False)"
   ]
  },
  {
   "cell_type": "markdown",
   "metadata": {},
   "source": [
    "Next, we notice that there are some Invoices starting with 'C' and 'A' - Cancelled orders. We analyze them and remove them from our dataset."
   ]
  },
  {
   "cell_type": "code",
   "execution_count": 11,
   "metadata": {
    "scrolled": false
   },
   "outputs": [
    {
     "name": "stdout",
     "output_type": "stream",
     "text": [
      "Number of Cancelled Transactions: 12326\n"
     ]
    }
   ],
   "source": [
    "#data['Quantity'].agg(lambda x: sum(x < 0)).sum()\n",
    "cancelled = data['Quantity'].lt(0).sum()\n",
    "print(\"Number of Cancelled Transactions:\", cancelled)"
   ]
  },
  {
   "cell_type": "code",
   "execution_count": 12,
   "metadata": {},
   "outputs": [
    {
     "name": "stdout",
     "output_type": "stream",
     "text": [
      "Number of Valid Transactions: 513135\n"
     ]
    }
   ],
   "source": [
    "valid = len(data['Quantity']) -  cancelled\n",
    "print(\"Number of Valid Transactions:\", valid)"
   ]
  },
  {
   "cell_type": "code",
   "execution_count": 13,
   "metadata": {},
   "outputs": [
    {
     "data": {
      "image/png": "[encoded data removed]",
      "text/plain": [
       "<Figure size 720x720 with 1 Axes>"
      ]
     },
     "metadata": {},
     "output_type": "display_data"
    }
   ],
   "source": [
    "fig, ax = plt.subplots(figsize = (10,10))\n",
    "explode = (0.2, 0)\n",
    "#explode1 = (0.05, 0.05)\n",
    "colors = ['green', 'darkorange']\n",
    "#colors1 = ['#66b3ff', '#ff9999']\n",
    "plt.title('An overview of the transactions')\n",
    "ax.pie([valid, cancelled], explode = explode, colors = colors, labels=(f'Valid Transactions', f'Cancelled Transactions'), startangle=90, autopct='%1.1f%%')\n",
    "plt.show()"
   ]
  },
  {
   "cell_type": "markdown",
   "metadata": {},
   "source": [
    "The Negative values from the columns denote the following: "
   ]
  },
  {
   "cell_type": "markdown",
   "metadata": {},
   "source": [
    "1. Quantity of the product has been returned\n",
    "2. Price has been refunded back to the customer\n",
    "3. Customer has been deleted from the database\n",
    "4. Invoices starting with A and C are cancelled and adjusted to debt orders"
   ]
  },
  {
   "cell_type": "code",
   "execution_count": 14,
   "metadata": {},
   "outputs": [
    {
     "name": "stdout",
     "output_type": "stream",
     "text": [
      "        Invoice StockCode                       Description  Quantity  \\\n",
      "178     C489449     22087          PAPER BUNTING WHITE LACE       -12   \n",
      "179     C489449    85206A      CREAM FELT EASTER EGG BASKET        -6   \n",
      "180     C489449     21895     POTTING SHED SOW 'N' GROW SET        -4   \n",
      "181     C489449     21896                POTTING SHED TWINE        -6   \n",
      "182     C489449     22083        PAPER CHAIN KIT RETRO SPOT       -12   \n",
      "...         ...       ...                               ...       ...   \n",
      "524695  C538123     22956          36 FOIL HEART CAKE CASES        -2   \n",
      "524696  C538124         M                            Manual        -4   \n",
      "524697  C538124     22699  ROSES REGENCY TEACUP AND SAUCER         -1   \n",
      "524698  C538124     22423          REGENCY CAKESTAND 3 TIER        -1   \n",
      "525282  C538164    35004B       SET OF 3 BLACK FLYING DUCKS        -1   \n",
      "\n",
      "               InvoiceDate  Price  Customer ID         Country  \n",
      "178    2009-12-01 10:33:00   2.95      16321.0       Australia  \n",
      "179    2009-12-01 10:33:00   1.65      16321.0       Australia  \n",
      "180    2009-12-01 10:33:00   4.25      16321.0       Australia  \n",
      "181    2009-12-01 10:33:00   2.10      16321.0       Australia  \n",
      "182    2009-12-01 10:33:00   2.95      16321.0       Australia  \n",
      "...                    ...    ...          ...             ...  \n",
      "524695 2010-12-09 15:41:00   2.10      12605.0         Germany  \n",
      "524696 2010-12-09 15:43:00   0.50      15329.0  United Kingdom  \n",
      "524697 2010-12-09 15:43:00   2.95      15329.0  United Kingdom  \n",
      "524698 2010-12-09 15:43:00  12.75      15329.0  United Kingdom  \n",
      "525282 2010-12-09 17:32:00   1.95      14031.0  United Kingdom  \n",
      "\n",
      "[10206 rows x 8 columns]\n",
      "        Invoice StockCode      Description  Quantity         InvoiceDate  \\\n",
      "179403  A506401         B  Adjust bad debt         1 2010-04-29 13:36:00   \n",
      "276274  A516228         B  Adjust bad debt         1 2010-07-19 11:24:00   \n",
      "403472  A528059         B  Adjust bad debt         1 2010-10-20 12:04:00   \n",
      "\n",
      "           Price  Customer ID         Country  \n",
      "179403 -53594.36          NaN  United Kingdom  \n",
      "276274 -44031.79          NaN  United Kingdom  \n",
      "403472 -38925.87          NaN  United Kingdom  \n"
     ]
    }
   ],
   "source": [
    "#An overview of the cancelled orders:\n",
    "print(data[data[\"Invoice\"].astype(str).str[0] == \"C\"])\n",
    "print(data[data[\"Invoice\"].astype(str).str[0] == \"A\"])"
   ]
  },
  {
   "cell_type": "markdown",
   "metadata": {},
   "source": [
    "We check for null values and remove the above said negative values."
   ]
  },
  {
   "cell_type": "code",
   "execution_count": 15,
   "metadata": {},
   "outputs": [
    {
     "name": "stdout",
     "output_type": "stream",
     "text": [
      "(525461, 8)\n",
      "(407695, 8)\n"
     ]
    },
    {
     "data": {
      "text/html": [
       "<div>\n",
       "<style scoped>\n",
       "    .dataframe tbody tr th:only-of-type {\n",
       "        vertical-align: middle;\n",
       "    }\n",
       "\n",
       "    .dataframe tbody tr th {\n",
       "        vertical-align: top;\n",
       "    }\n",
       "\n",
       "    .dataframe thead th {\n",
       "        text-align: right;\n",
       "    }\n",
       "</style>\n",
       "<table border=\"1\" class=\"dataframe\">\n",
       "  <thead>\n",
       "    <tr style=\"text-align: right;\">\n",
       "      <th></th>\n",
       "      <th>Invoice</th>\n",
       "      <th>StockCode</th>\n",
       "      <th>Description</th>\n",
       "      <th>Quantity</th>\n",
       "      <th>InvoiceDate</th>\n",
       "      <th>Price</th>\n",
       "      <th>Customer ID</th>\n",
       "      <th>Country</th>\n",
       "      <th>Revenue</th>\n",
       "    </tr>\n",
       "  </thead>\n",
       "  <tbody>\n",
       "    <tr>\n",
       "      <td>0</td>\n",
       "      <td>489434</td>\n",
       "      <td>85048</td>\n",
       "      <td>15CM CHRISTMAS GLASS BALL 20 LIGHTS</td>\n",
       "      <td>12</td>\n",
       "      <td>2009-12-01 07:45:00</td>\n",
       "      <td>6.95</td>\n",
       "      <td>13085.0</td>\n",
       "      <td>United Kingdom</td>\n",
       "      <td>83.4</td>\n",
       "    </tr>\n",
       "    <tr>\n",
       "      <td>1</td>\n",
       "      <td>489434</td>\n",
       "      <td>79323P</td>\n",
       "      <td>PINK CHERRY LIGHTS</td>\n",
       "      <td>12</td>\n",
       "      <td>2009-12-01 07:45:00</td>\n",
       "      <td>6.75</td>\n",
       "      <td>13085.0</td>\n",
       "      <td>United Kingdom</td>\n",
       "      <td>81.0</td>\n",
       "    </tr>\n",
       "    <tr>\n",
       "      <td>2</td>\n",
       "      <td>489434</td>\n",
       "      <td>79323W</td>\n",
       "      <td>WHITE CHERRY LIGHTS</td>\n",
       "      <td>12</td>\n",
       "      <td>2009-12-01 07:45:00</td>\n",
       "      <td>6.75</td>\n",
       "      <td>13085.0</td>\n",
       "      <td>United Kingdom</td>\n",
       "      <td>81.0</td>\n",
       "    </tr>\n",
       "    <tr>\n",
       "      <td>3</td>\n",
       "      <td>489434</td>\n",
       "      <td>22041</td>\n",
       "      <td>RECORD FRAME 7\" SINGLE SIZE</td>\n",
       "      <td>48</td>\n",
       "      <td>2009-12-01 07:45:00</td>\n",
       "      <td>2.10</td>\n",
       "      <td>13085.0</td>\n",
       "      <td>United Kingdom</td>\n",
       "      <td>100.8</td>\n",
       "    </tr>\n",
       "    <tr>\n",
       "      <td>4</td>\n",
       "      <td>489434</td>\n",
       "      <td>21232</td>\n",
       "      <td>STRAWBERRY CERAMIC TRINKET BOX</td>\n",
       "      <td>24</td>\n",
       "      <td>2009-12-01 07:45:00</td>\n",
       "      <td>1.25</td>\n",
       "      <td>13085.0</td>\n",
       "      <td>United Kingdom</td>\n",
       "      <td>30.0</td>\n",
       "    </tr>\n",
       "  </tbody>\n",
       "</table>\n",
       "</div>"
      ],
      "text/plain": [
       "  Invoice StockCode                          Description  Quantity  \\\n",
       "0  489434     85048  15CM CHRISTMAS GLASS BALL 20 LIGHTS        12   \n",
       "1  489434    79323P                   PINK CHERRY LIGHTS        12   \n",
       "2  489434    79323W                  WHITE CHERRY LIGHTS        12   \n",
       "3  489434     22041         RECORD FRAME 7\" SINGLE SIZE         48   \n",
       "4  489434     21232       STRAWBERRY CERAMIC TRINKET BOX        24   \n",
       "\n",
       "          InvoiceDate  Price  Customer ID         Country  Revenue  \n",
       "0 2009-12-01 07:45:00   6.95      13085.0  United Kingdom     83.4  \n",
       "1 2009-12-01 07:45:00   6.75      13085.0  United Kingdom     81.0  \n",
       "2 2009-12-01 07:45:00   6.75      13085.0  United Kingdom     81.0  \n",
       "3 2009-12-01 07:45:00   2.10      13085.0  United Kingdom    100.8  \n",
       "4 2009-12-01 07:45:00   1.25      13085.0  United Kingdom     30.0  "
      ]
     },
     "execution_count": 15,
     "metadata": {},
     "output_type": "execute_result"
    }
   ],
   "source": [
    "#data.drop(data['Quantity'] <= 0)\n",
    "print(data.shape)\n",
    "data = data[data[\"Quantity\"] > 0 ]\n",
    "data = data[data[\"Price\"] >= 0 ]\n",
    "data = data[data[\"Customer ID\"] >= 0 ]\n",
    "\n",
    "\n",
    "#All entries with entries starting with C in Invoice column had negative values. \n",
    "data = data[data[\"Invoice\"].astype(str).str[0] != \"C\"]\n",
    "data = data[data[\"Invoice\"].astype(str).str[0] != \"A\"]\n",
    "print(data.shape)\n",
    "\n",
    "#Calculating Revenue \n",
    "data['Revenue'] = data['Price'] * data['Quantity']\n",
    "data.head()"
   ]
  },
  {
   "cell_type": "code",
   "execution_count": 16,
   "metadata": {},
   "outputs": [
    {
     "data": {
      "text/plain": [
       "Invoice        0\n",
       "StockCode      0\n",
       "Description    0\n",
       "Quantity       0\n",
       "InvoiceDate    0\n",
       "Price          0\n",
       "Customer ID    0\n",
       "Country        0\n",
       "Revenue        0\n",
       "dtype: int64"
      ]
     },
     "execution_count": 16,
     "metadata": {},
     "output_type": "execute_result"
    }
   ],
   "source": [
    "#Checking for null values after data preprocessing:\n",
    "data.isna().sum()"
   ]
  },
  {
   "cell_type": "code",
   "execution_count": 17,
   "metadata": {},
   "outputs": [],
   "source": [
    "#Splitting the DateTime object to date, month, year, weekday, day for analysis\n",
    "data['Year'] = data['InvoiceDate'].dt.year\n",
    "data['Month'] = data['InvoiceDate'].dt.month\n",
    "data['Date'] = data['InvoiceDate'].dt.date\n",
    "data['Day'] = data['InvoiceDate'].dt.day\n",
    "data['Weekday'] = data['InvoiceDate'].dt.dayofweek"
   ]
  },
  {
   "cell_type": "code",
   "execution_count": 18,
   "metadata": {},
   "outputs": [
    {
     "name": "stdout",
     "output_type": "stream",
     "text": [
      "<class 'pandas.core.frame.DataFrame'>\n",
      "Int64Index: 407695 entries, 0 to 525460\n",
      "Data columns (total 14 columns):\n",
      "Invoice        407695 non-null object\n",
      "StockCode      407695 non-null object\n",
      "Description    407695 non-null object\n",
      "Quantity       407695 non-null int64\n",
      "InvoiceDate    407695 non-null datetime64[ns]\n",
      "Price          407695 non-null float64\n",
      "Customer ID    407695 non-null float64\n",
      "Country        407695 non-null object\n",
      "Revenue        407695 non-null float64\n",
      "Year           407695 non-null int64\n",
      "Month          407695 non-null int64\n",
      "Date           407695 non-null object\n",
      "Day            407695 non-null int64\n",
      "Weekday        407695 non-null int64\n",
      "dtypes: datetime64[ns](1), float64(3), int64(5), object(5)\n",
      "memory usage: 46.7+ MB\n"
     ]
    }
   ],
   "source": [
    "#Summary of cleaned data\n",
    "\n",
    "data.info()"
   ]
  },
  {
   "cell_type": "markdown",
   "metadata": {},
   "source": [
    "To check how diverse the data is, we check the plot of Number of orders placed country wise."
   ]
  },
  {
   "cell_type": "code",
   "execution_count": 19,
   "metadata": {},
   "outputs": [
    {
     "data": {
      "image/png": "[encoded data removed]",
      "text/plain": [
       "<Figure size 720x720 with 1 Axes>"
      ]
     },
     "metadata": {
      "needs_background": "light"
     },
     "output_type": "display_data"
    }
   ],
   "source": [
    "orders_by_country = data.groupby('Country')['Invoice'].count().sort_values(ascending=False)\n",
    "index = orders_by_country.index\n",
    "temp = pd.DataFrame(orders_by_country)\n",
    "\n",
    "f, ax = plt.subplots(figsize=(10, 10))\n",
    "#sns.set_color_codes(\"pastel\")\n",
    "sns.set(style=\"whitegrid\", color_codes=True)\n",
    "sns.barplot(x=\"Invoice\", y=temp.index, data=temp, label=\"Total\", palette = 'GnBu_d').set_title('Number of Orders by Country')\n",
    "ax.legend(ncol=2, loc=\"lower right\", frameon=True)\n",
    "sns.despine(left=True, bottom=True)"
   ]
  },
  {
   "cell_type": "markdown",
   "metadata": {},
   "source": [
    "Clearly, UK occupies the most and is an outlier and hence, we remove it and check the plot again:"
   ]
  },
  {
   "cell_type": "code",
   "execution_count": 20,
   "metadata": {},
   "outputs": [
    {
     "data": {
      "image/png": "[encoded data removed]",
      "text/plain": [
       "<Figure size 720x720 with 1 Axes>"
      ]
     },
     "metadata": {},
     "output_type": "display_data"
    }
   ],
   "source": [
    "orders_by_country = data.groupby('Country')['Invoice'].count().sort_values(ascending=False)\n",
    "del orders_by_country['United Kingdom']\n",
    "index = orders_by_country.index\n",
    "temp = pd.DataFrame(orders_by_country)\n",
    "\n",
    "f, ax = plt.subplots(figsize=(10, 10))\n",
    "#sns.set_color_codes(\"pastel\")\n",
    "sns.set(style=\"whitegrid\", color_codes=True)\n",
    "sns.barplot(x=\"Invoice\", y=temp.index, data=temp, label=\"Total\", palette = 'GnBu_d').set_title('Number of Orders by Country')\n",
    "ax.legend(ncol=2, loc=\"lower right\", frameon=True)\n",
    "sns.despine(left=True, bottom=True)"
   ]
  },
  {
   "cell_type": "markdown",
   "metadata": {},
   "source": [
    "To check the desity of our data, we check the plot of Revenue spent country wise."
   ]
  },
  {
   "cell_type": "code",
   "execution_count": 21,
   "metadata": {},
   "outputs": [
    {
     "data": {
      "image/png": "[encoded data removed]",
      "text/plain": [
       "<Figure size 720x720 with 1 Axes>"
      ]
     },
     "metadata": {},
     "output_type": "display_data"
    }
   ],
   "source": [
    "country_revenue = data.groupby('Country')['Revenue'].sum()\n",
    "percentage = ((country_revenue/country_revenue.sum())*100).round(2)\n",
    "percentage = percentage.sort_values(ascending = False)\n",
    "percentage = percentage[0:5]\n",
    "fig, ax = plt.subplots(figsize = (10,10))\n",
    "plt.title('Revenue - Country wise splitup', y = 1.05)\n",
    "ax.pie(percentage, labels=percentage.index, autopct='%1.1f%%', startangle=90)\n",
    "centre_circle = plt.Circle((0,0),0.70,fc='white')\n",
    "fig = plt.gcf()\n",
    "fig.gca().add_artist(centre_circle)\n",
    "ax.axis('equal') \n",
    "plt.tight_layout()\n",
    "plt.show()"
   ]
  },
  {
   "cell_type": "markdown",
   "metadata": {},
   "source": [
    "To check the desity of our data, we check the plot of Average Revenue spent country wise."
   ]
  },
  {
   "cell_type": "code",
   "execution_count": 22,
   "metadata": {},
   "outputs": [
    {
     "data": {
      "image/png": "[encoded data removed]",
      "text/plain": [
       "<Figure size 720x720 with 1 Axes>"
      ]
     },
     "metadata": {},
     "output_type": "display_data"
    }
   ],
   "source": [
    "amount_by_country = data.groupby('Country')['Revenue'].mean().sort_values(ascending=False)\n",
    "index = amount_by_country.index\n",
    "temp = pd.DataFrame(amount_by_country)\n",
    "\n",
    "f, ax = plt.subplots(figsize=(10, 10))\n",
    "sns.set(style=\"whitegrid\", color_codes=True)\n",
    "sns.barplot(x=\"Revenue\", y=temp.index, data=temp,label=\"Total\").set_title('Average Amount spent by Country')\n",
    "ax.legend(ncol=2, loc=\"lower right\", frameon=True)\n",
    "sns.despine(left=True, bottom=True)"
   ]
  },
  {
   "cell_type": "markdown",
   "metadata": {},
   "source": [
    "Though UK has the highest revenue, the number of orders are way too huge than the others. Hence, interestingly, UK went down when the average amount spent by country was calculated."
   ]
  },
  {
   "cell_type": "markdown",
   "metadata": {},
   "source": [
    "Next, we check when was the time when the highest nunber of orders were placed online in terms of months."
   ]
  },
  {
   "cell_type": "code",
   "execution_count": 23,
   "metadata": {},
   "outputs": [
    {
     "data": {
      "image/png": "[encoded data removed]",
      "text/plain": [
       "<Figure size 1080x432 with 1 Axes>"
      ]
     },
     "metadata": {},
     "output_type": "display_data"
    }
   ],
   "source": [
    "ax = data.groupby('Invoice')['Month'].unique().value_counts().sort_index().plot(figsize=(15,6))\n",
    "ax.set_xlabel('Month',fontsize=15)\n",
    "ax.set_ylabel('Number of Orders',fontsize=15)\n",
    "ax.set_title('Number of orders for different Months (Dec 2009 - Dec 2010)',fontsize=15)\n",
    "ax.set_xticklabels(('Dec_09','Jan_10','Feb_10','Mar_10','Apr_10','May_10','Jun_10','July_10','Aug_10','Sep_10','Oct_10','Nov_10','Dec_10'), rotation='horizontal')\n",
    "plt.show()"
   ]
  },
  {
   "cell_type": "markdown",
   "metadata": {},
   "source": [
    "The peak is in the month of May, 2010 and the least was in the month of December, 2009. "
   ]
  },
  {
   "cell_type": "markdown",
   "metadata": {},
   "source": [
    "Likewise, we check when was the time when the highest nunber of orders were placed online in terms of Weekdays."
   ]
  },
  {
   "cell_type": "code",
   "execution_count": 24,
   "metadata": {},
   "outputs": [
    {
     "data": {
      "image/png": "[encoded data removed]",
      "text/plain": [
       "<Figure size 1080x432 with 1 Axes>"
      ]
     },
     "metadata": {},
     "output_type": "display_data"
    }
   ],
   "source": [
    "ax = data.groupby('Invoice')['Weekday'].unique().value_counts().sort_index().plot(kind = 'bar', figsize=(15,6), color = 'lightblue')\n",
    "ax.set_xlabel('Weekday',fontsize=15)\n",
    "ax.set_ylabel('Number of Orders',fontsize=15)\n",
    "ax.set_title('Trend of purchases during the week',fontsize=15)\n",
    "ax.set_xticklabels(('Monday', 'Tuesday', 'Wednesday', 'Thursday', 'Friday', 'Saturday', 'Sunday'), rotation='horizontal',  fontsize=13)\n",
    "plt.show()"
   ]
  },
  {
   "cell_type": "markdown",
   "metadata": {},
   "source": [
    "Interestingly, many orders were placed in the weekdays than on the weekends, especially Saturday."
   ]
  },
  {
   "cell_type": "markdown",
   "metadata": {},
   "source": [
    "# CHAPTER 7: COLLABORATIVE RECOMMENDER"
   ]
  },
  {
   "cell_type": "markdown",
   "metadata": {},
   "source": [
    "We filter out the Customer ID, the product and it's description along with how many times the user bought that product"
   ]
  },
  {
   "cell_type": "code",
   "execution_count": 25,
   "metadata": {},
   "outputs": [
    {
     "data": {
      "text/html": [
       "<div>\n",
       "<style scoped>\n",
       "    .dataframe tbody tr th:only-of-type {\n",
       "        vertical-align: middle;\n",
       "    }\n",
       "\n",
       "    .dataframe tbody tr th {\n",
       "        vertical-align: top;\n",
       "    }\n",
       "\n",
       "    .dataframe thead th {\n",
       "        text-align: right;\n",
       "    }\n",
       "</style>\n",
       "<table border=\"1\" class=\"dataframe\">\n",
       "  <thead>\n",
       "    <tr style=\"text-align: right;\">\n",
       "      <th></th>\n",
       "      <th>Customer ID</th>\n",
       "      <th>StockCode</th>\n",
       "      <th>Description</th>\n",
       "      <th>NoOfPurchases</th>\n",
       "    </tr>\n",
       "  </thead>\n",
       "  <tbody>\n",
       "    <tr>\n",
       "      <td>0</td>\n",
       "      <td>12346.0</td>\n",
       "      <td>20679</td>\n",
       "      <td>EDWARDIAN PARASOL RED</td>\n",
       "      <td>1</td>\n",
       "    </tr>\n",
       "    <tr>\n",
       "      <td>1</td>\n",
       "      <td>12346.0</td>\n",
       "      <td>20682</td>\n",
       "      <td>RED SPOTTY CHILDS UMBRELLA</td>\n",
       "      <td>1</td>\n",
       "    </tr>\n",
       "    <tr>\n",
       "      <td>2</td>\n",
       "      <td>12346.0</td>\n",
       "      <td>20685</td>\n",
       "      <td>DOORMAT RED SPOT</td>\n",
       "      <td>1</td>\n",
       "    </tr>\n",
       "    <tr>\n",
       "      <td>3</td>\n",
       "      <td>12346.0</td>\n",
       "      <td>21523</td>\n",
       "      <td>DOORMAT FANCY FONT HOME SWEET HOME</td>\n",
       "      <td>1</td>\n",
       "    </tr>\n",
       "    <tr>\n",
       "      <td>4</td>\n",
       "      <td>12346.0</td>\n",
       "      <td>21524</td>\n",
       "      <td>DOORMAT SPOTTY HOME SWEET HOME</td>\n",
       "      <td>1</td>\n",
       "    </tr>\n",
       "    <tr>\n",
       "      <td>...</td>\n",
       "      <td>...</td>\n",
       "      <td>...</td>\n",
       "      <td>...</td>\n",
       "      <td>...</td>\n",
       "    </tr>\n",
       "    <tr>\n",
       "      <td>280774</td>\n",
       "      <td>18287.0</td>\n",
       "      <td>85040A</td>\n",
       "      <td>S/4 PINK FLOWER CANDLES IN BOWL</td>\n",
       "      <td>2</td>\n",
       "    </tr>\n",
       "    <tr>\n",
       "      <td>280775</td>\n",
       "      <td>18287.0</td>\n",
       "      <td>85040B</td>\n",
       "      <td>SET/4 BLUE FLOWER CANDLES IN BOWL</td>\n",
       "      <td>1</td>\n",
       "    </tr>\n",
       "    <tr>\n",
       "      <td>280776</td>\n",
       "      <td>18287.0</td>\n",
       "      <td>85199S</td>\n",
       "      <td>SMALL HANGING IVORY/RED WOOD BIRD</td>\n",
       "      <td>1</td>\n",
       "    </tr>\n",
       "    <tr>\n",
       "      <td>280777</td>\n",
       "      <td>18287.0</td>\n",
       "      <td>85232B</td>\n",
       "      <td>SET/3 RUSSIAN DOLL STACKING TINS</td>\n",
       "      <td>1</td>\n",
       "    </tr>\n",
       "    <tr>\n",
       "      <td>280778</td>\n",
       "      <td>18287.0</td>\n",
       "      <td>C2</td>\n",
       "      <td>CARRIAGE</td>\n",
       "      <td>1</td>\n",
       "    </tr>\n",
       "  </tbody>\n",
       "</table>\n",
       "<p>280779 rows × 4 columns</p>\n",
       "</div>"
      ],
      "text/plain": [
       "        Customer ID StockCode                         Description  \\\n",
       "0           12346.0     20679               EDWARDIAN PARASOL RED   \n",
       "1           12346.0     20682          RED SPOTTY CHILDS UMBRELLA   \n",
       "2           12346.0     20685                    DOORMAT RED SPOT   \n",
       "3           12346.0     21523  DOORMAT FANCY FONT HOME SWEET HOME   \n",
       "4           12346.0     21524      DOORMAT SPOTTY HOME SWEET HOME   \n",
       "...             ...       ...                                 ...   \n",
       "280774      18287.0    85040A     S/4 PINK FLOWER CANDLES IN BOWL   \n",
       "280775      18287.0    85040B   SET/4 BLUE FLOWER CANDLES IN BOWL   \n",
       "280776      18287.0    85199S   SMALL HANGING IVORY/RED WOOD BIRD   \n",
       "280777      18287.0    85232B    SET/3 RUSSIAN DOLL STACKING TINS   \n",
       "280778      18287.0        C2                            CARRIAGE   \n",
       "\n",
       "        NoOfPurchases  \n",
       "0                   1  \n",
       "1                   1  \n",
       "2                   1  \n",
       "3                   1  \n",
       "4                   1  \n",
       "...               ...  \n",
       "280774              2  \n",
       "280775              1  \n",
       "280776              1  \n",
       "280777              1  \n",
       "280778              1  \n",
       "\n",
       "[280779 rows x 4 columns]"
      ]
     },
     "execution_count": 25,
     "metadata": {},
     "output_type": "execute_result"
    }
   ],
   "source": [
    "filtered = data.groupby(['Customer ID','StockCode','Description'], as_index = False).agg({'Invoice': 'nunique'})\n",
    "filtered.rename(columns = {'Invoice': 'NoOfPurchases'}, inplace = True)\n",
    "filtered"
   ]
  },
  {
   "cell_type": "markdown",
   "metadata": {},
   "source": [
    "Next, we create a sparse matrix with the attributes of our interest: 'CusotmerID (user)' and 'StockCode (item)'"
   ]
  },
  {
   "cell_type": "code",
   "execution_count": 26,
   "metadata": {},
   "outputs": [
    {
     "data": {
      "text/html": [
       "<div>\n",
       "<style scoped>\n",
       "    .dataframe tbody tr th:only-of-type {\n",
       "        vertical-align: middle;\n",
       "    }\n",
       "\n",
       "    .dataframe tbody tr th {\n",
       "        vertical-align: top;\n",
       "    }\n",
       "\n",
       "    .dataframe thead th {\n",
       "        text-align: right;\n",
       "    }\n",
       "</style>\n",
       "<table border=\"1\" class=\"dataframe\">\n",
       "  <thead>\n",
       "    <tr style=\"text-align: right;\">\n",
       "      <th></th>\n",
       "      <th>Customer ID</th>\n",
       "      <th>StockCode</th>\n",
       "      <th>Description</th>\n",
       "      <th>NoOfPurchases</th>\n",
       "      <th>user</th>\n",
       "      <th>item</th>\n",
       "    </tr>\n",
       "  </thead>\n",
       "  <tbody>\n",
       "    <tr>\n",
       "      <td>0</td>\n",
       "      <td>12346.0</td>\n",
       "      <td>20679</td>\n",
       "      <td>EDWARDIAN PARASOL RED</td>\n",
       "      <td>1</td>\n",
       "      <td>0</td>\n",
       "      <td>94</td>\n",
       "    </tr>\n",
       "    <tr>\n",
       "      <td>1</td>\n",
       "      <td>12346.0</td>\n",
       "      <td>20682</td>\n",
       "      <td>RED SPOTTY CHILDS UMBRELLA</td>\n",
       "      <td>1</td>\n",
       "      <td>0</td>\n",
       "      <td>97</td>\n",
       "    </tr>\n",
       "    <tr>\n",
       "      <td>2</td>\n",
       "      <td>12346.0</td>\n",
       "      <td>20685</td>\n",
       "      <td>DOORMAT RED SPOT</td>\n",
       "      <td>1</td>\n",
       "      <td>0</td>\n",
       "      <td>100</td>\n",
       "    </tr>\n",
       "    <tr>\n",
       "      <td>3</td>\n",
       "      <td>12346.0</td>\n",
       "      <td>21523</td>\n",
       "      <td>DOORMAT FANCY FONT HOME SWEET HOME</td>\n",
       "      <td>1</td>\n",
       "      <td>0</td>\n",
       "      <td>741</td>\n",
       "    </tr>\n",
       "    <tr>\n",
       "      <td>4</td>\n",
       "      <td>12346.0</td>\n",
       "      <td>21524</td>\n",
       "      <td>DOORMAT SPOTTY HOME SWEET HOME</td>\n",
       "      <td>1</td>\n",
       "      <td>0</td>\n",
       "      <td>742</td>\n",
       "    </tr>\n",
       "    <tr>\n",
       "      <td>...</td>\n",
       "      <td>...</td>\n",
       "      <td>...</td>\n",
       "      <td>...</td>\n",
       "      <td>...</td>\n",
       "      <td>...</td>\n",
       "      <td>...</td>\n",
       "    </tr>\n",
       "    <tr>\n",
       "      <td>280774</td>\n",
       "      <td>18287.0</td>\n",
       "      <td>85040A</td>\n",
       "      <td>S/4 PINK FLOWER CANDLES IN BOWL</td>\n",
       "      <td>2</td>\n",
       "      <td>4313</td>\n",
       "      <td>3597</td>\n",
       "    </tr>\n",
       "    <tr>\n",
       "      <td>280775</td>\n",
       "      <td>18287.0</td>\n",
       "      <td>85040B</td>\n",
       "      <td>SET/4 BLUE FLOWER CANDLES IN BOWL</td>\n",
       "      <td>1</td>\n",
       "      <td>4313</td>\n",
       "      <td>3598</td>\n",
       "    </tr>\n",
       "    <tr>\n",
       "      <td>280776</td>\n",
       "      <td>18287.0</td>\n",
       "      <td>85199S</td>\n",
       "      <td>SMALL HANGING IVORY/RED WOOD BIRD</td>\n",
       "      <td>1</td>\n",
       "      <td>4313</td>\n",
       "      <td>3697</td>\n",
       "    </tr>\n",
       "    <tr>\n",
       "      <td>280777</td>\n",
       "      <td>18287.0</td>\n",
       "      <td>85232B</td>\n",
       "      <td>SET/3 RUSSIAN DOLL STACKING TINS</td>\n",
       "      <td>1</td>\n",
       "      <td>4313</td>\n",
       "      <td>3716</td>\n",
       "    </tr>\n",
       "    <tr>\n",
       "      <td>280778</td>\n",
       "      <td>18287.0</td>\n",
       "      <td>C2</td>\n",
       "      <td>CARRIAGE</td>\n",
       "      <td>1</td>\n",
       "      <td>4313</td>\n",
       "      <td>4009</td>\n",
       "    </tr>\n",
       "  </tbody>\n",
       "</table>\n",
       "<p>280779 rows × 6 columns</p>\n",
       "</div>"
      ],
      "text/plain": [
       "       Customer ID StockCode                         Description  \\\n",
       "0          12346.0     20679               EDWARDIAN PARASOL RED   \n",
       "1          12346.0     20682          RED SPOTTY CHILDS UMBRELLA   \n",
       "2          12346.0     20685                    DOORMAT RED SPOT   \n",
       "3          12346.0     21523  DOORMAT FANCY FONT HOME SWEET HOME   \n",
       "4          12346.0     21524      DOORMAT SPOTTY HOME SWEET HOME   \n",
       "...            ...       ...                                 ...   \n",
       "280774     18287.0    85040A     S/4 PINK FLOWER CANDLES IN BOWL   \n",
       "280775     18287.0    85040B   SET/4 BLUE FLOWER CANDLES IN BOWL   \n",
       "280776     18287.0    85199S   SMALL HANGING IVORY/RED WOOD BIRD   \n",
       "280777     18287.0    85232B    SET/3 RUSSIAN DOLL STACKING TINS   \n",
       "280778     18287.0        C2                            CARRIAGE   \n",
       "\n",
       "        NoOfPurchases  user  item  \n",
       "0                   1     0    94  \n",
       "1                   1     0    97  \n",
       "2                   1     0   100  \n",
       "3                   1     0   741  \n",
       "4                   1     0   742  \n",
       "...               ...   ...   ...  \n",
       "280774              2  4313  3597  \n",
       "280775              1  4313  3598  \n",
       "280776              1  4313  3697  \n",
       "280777              1  4313  3716  \n",
       "280778              1  4313  4009  \n",
       "\n",
       "[280779 rows x 6 columns]"
      ]
     },
     "execution_count": 26,
     "metadata": {},
     "output_type": "execute_result"
    }
   ],
   "source": [
    "#Converting the columns Customer ID and Stock Code to categories to get the unique values and group data accordingly\n",
    "filtered['Customer ID'] = filtered['Customer ID'].astype(\"category\")\n",
    "filtered['StockCode'] = filtered['StockCode'].astype(\"category\")\n",
    "\n",
    "#Retriving the index/code of the categegories and setting them to user and item columns\n",
    "filtered['user'] = filtered['Customer ID'].cat.codes\n",
    "filtered['item'] = filtered['StockCode'].cat.codes\n",
    "filtered"
   ]
  },
  {
   "cell_type": "markdown",
   "metadata": {},
   "source": [
    "To build a recommender, we need to construct two matrices:"
   ]
  },
  {
   "cell_type": "markdown",
   "metadata": {},
   "source": [
    "1. Product/Item - Customer/User matrix for holding the data and to train and fit the model.\n",
    "2. Customer/User - Product/Item matrix to give recommendations from the model built above."
   ]
  },
  {
   "cell_type": "markdown",
   "metadata": {},
   "source": [
    "We build a Compressed Sparse Matrix to achieve the above:"
   ]
  },
  {
   "cell_type": "code",
   "execution_count": 27,
   "metadata": {},
   "outputs": [],
   "source": [
    "ItemUser = scipy.sparse.csr_matrix((filtered['NoOfPurchases'].astype(float), (filtered['item'], filtered['user'])))\n",
    "UserItem = scipy.sparse.csr_matrix((filtered['NoOfPurchases'].astype(float), (filtered['user'], filtered['item'])))"
   ]
  },
  {
   "cell_type": "code",
   "execution_count": 28,
   "metadata": {},
   "outputs": [
    {
     "data": {
      "text/plain": [
       "<4017x4314 sparse matrix of type '<class 'numpy.float64'>'\n",
       "\twith 274449 stored elements in Compressed Sparse Row format>"
      ]
     },
     "execution_count": 28,
     "metadata": {},
     "output_type": "execute_result"
    }
   ],
   "source": [
    "ItemUser"
   ]
  },
  {
   "cell_type": "code",
   "execution_count": 29,
   "metadata": {},
   "outputs": [
    {
     "data": {
      "text/plain": [
       "<4314x4017 sparse matrix of type '<class 'numpy.float64'>'\n",
       "\twith 274449 stored elements in Compressed Sparse Row format>"
      ]
     },
     "execution_count": 29,
     "metadata": {},
     "output_type": "execute_result"
    }
   ],
   "source": [
    "UserItem"
   ]
  },
  {
   "cell_type": "markdown",
   "metadata": {},
   "source": [
    "Since this is an implicit variety of data, i.e., no ratings have been provided by the users to the items to determine the likeability of the product. But we have the number of times the user bought the products. Hence, we can use that as an implicit method to recommed products for the user."
   ]
  },
  {
   "cell_type": "markdown",
   "metadata": {},
   "source": [
    "To implement this, we factorize the matrix by using Alternative Least Squares which scales very large datasets."
   ]
  },
  {
   "cell_type": "code",
   "execution_count": 30,
   "metadata": {},
   "outputs": [
    {
     "name": "stderr",
     "output_type": "stream",
     "text": [
      "WARNING:root:Intel MKL BLAS detected. Its highly recommend to set the environment variable 'export MKL_NUM_THREADS=1' to disable its internal multithreading\n"
     ]
    },
    {
     "data": {
      "application/vnd.jupyter.widget-view+json": {
       "model_id": "f641257cb2d44451979f32ce9a4f7631",
       "version_major": 2,
       "version_minor": 0
      },
      "text/plain": [
       "HBox(children=(IntProgress(value=0, max=50), HTML(value='')))"
      ]
     },
     "metadata": {},
     "output_type": "display_data"
    },
    {
     "name": "stdout",
     "output_type": "stream",
     "text": [
      "\n"
     ]
    }
   ],
   "source": [
    "model = implicit.als.AlternatingLeastSquares(factors=20, regularization=0.1, iterations=50)\n",
    "\n",
    "alpha = 15\n",
    "confidence = (ItemUser * alpha).astype('double')\n",
    "\n",
    "model.fit(confidence)\n"
   ]
  },
  {
   "cell_type": "markdown",
   "metadata": {},
   "source": [
    "A customized function to retrive the user's purchase history and the relative recommendations from the model:"
   ]
  },
  {
   "cell_type": "code",
   "execution_count": 31,
   "metadata": {},
   "outputs": [],
   "source": [
    "def purchased(user):\n",
    "    return pd.DataFrame(filtered[filtered['user'] == user]['Description'].unique())\n",
    "\n",
    "def description(items):\n",
    "    descriptions = []\n",
    "    for item in items:\n",
    "        descriptions.extend(filtered[filtered['item'] == item ]['Description'].unique())\n",
    "    descriptions = pd.DataFrame(descriptions)\n",
    "    return descriptions\n",
    "\n",
    "def recommendations(user):\n",
    "    itemRecs = {}\n",
    "    recommended = model.recommend(user, UserItem)\n",
    "    for item in recommended:\n",
    "        #print(item[1])\n",
    "        itemRecs[item[0]] = item[1]  \n",
    "    return itemRecs"
   ]
  },
  {
   "cell_type": "markdown",
   "metadata": {},
   "source": [
    "Recommendations for the user '100':"
   ]
  },
  {
   "cell_type": "code",
   "execution_count": 32,
   "metadata": {},
   "outputs": [
    {
     "name": "stdout",
     "output_type": "stream",
     "text": [
      "Items purchased by user:                                 0\n",
      "0  SET OF MEADOW  FLOWER STICKERS\n",
      "1   RED TOADSTOOL LED NIGHT LIGHT\n",
      "\n",
      "Recomendations for this user:                                       0\n",
      "0                               POSTAGE\n",
      "1   ROUND SNACK BOXES SET OF4 WOODLAND \n",
      "2    ROUND SNACK BOXES ,SET4, WOODLAND \n",
      "3     STRAWBERRY LUNCH BOX WITH CUTLERY\n",
      "4      STRAWBERRY LUNCHBOX WITH CUTLERY\n",
      "5        DINOSAUR LUNCHBOX WITH CUTLERY\n",
      "6       DINOSAUR LUNCH BOX WITH CUTLERY\n",
      "7     LUNCH BOX WITH CUTLERY RETROSPOT \n",
      "8      LUNCHBOX WITH CUTLERY RETROSPOT \n",
      "9                   TOADSTOOL MONEY BOX\n",
      "10           RED SPOTTY CHILDS UMBRELLA\n",
      "11     RED RETROSPOT CHILDRENS UMBRELLA\n",
      "12    ROUND SNACK BOXES SET OF 4 SKULLS\n",
      "13     SET/3 RUSSIAN DOLL STACKING TINS\n",
      "14      SET OF 3 BABUSHKA STACKING TINS\n",
      "15  LUNCH BOX WITH CUTLERY FAIRY CAKES \n",
      "16   LUNCHBOX WITH CUTLERY FAIRY CAKES \n"
     ]
    }
   ],
   "source": [
    "print(\"Items purchased by user:\", purchased(100))\n",
    "print(\"\\nRecomendations for this user:\", description(recommendations(100).keys()))"
   ]
  },
  {
   "cell_type": "markdown",
   "metadata": {},
   "source": [
    "# CHAPTER - 8 : CUSTOMER SEGMENTATION"
   ]
  },
  {
   "cell_type": "markdown",
   "metadata": {},
   "source": [
    "# RFM ANALYSIS"
   ]
  },
  {
   "cell_type": "markdown",
   "metadata": {},
   "source": [
    "Retrieving the most recent date of the dataset:"
   ]
  },
  {
   "cell_type": "code",
   "execution_count": 33,
   "metadata": {},
   "outputs": [
    {
     "data": {
      "text/plain": [
       "datetime.date(2010, 12, 9)"
      ]
     },
     "execution_count": 33,
     "metadata": {},
     "output_type": "execute_result"
    }
   ],
   "source": [
    "last_timestamp = data['InvoiceDate'].max()\n",
    "last_date = last_timestamp.date()\n",
    "last_date"
   ]
  },
  {
   "cell_type": "code",
   "execution_count": 34,
   "metadata": {},
   "outputs": [
    {
     "data": {
      "text/html": [
       "<div>\n",
       "<style scoped>\n",
       "    .dataframe tbody tr th:only-of-type {\n",
       "        vertical-align: middle;\n",
       "    }\n",
       "\n",
       "    .dataframe tbody tr th {\n",
       "        vertical-align: top;\n",
       "    }\n",
       "\n",
       "    .dataframe thead th {\n",
       "        text-align: right;\n",
       "    }\n",
       "</style>\n",
       "<table border=\"1\" class=\"dataframe\">\n",
       "  <thead>\n",
       "    <tr style=\"text-align: right;\">\n",
       "      <th></th>\n",
       "      <th>Invoice</th>\n",
       "      <th>StockCode</th>\n",
       "      <th>Description</th>\n",
       "      <th>Quantity</th>\n",
       "      <th>InvoiceDate</th>\n",
       "      <th>Price</th>\n",
       "      <th>Customer ID</th>\n",
       "      <th>Country</th>\n",
       "      <th>Revenue</th>\n",
       "      <th>Year</th>\n",
       "      <th>Month</th>\n",
       "      <th>Date</th>\n",
       "      <th>Day</th>\n",
       "      <th>Weekday</th>\n",
       "      <th>date</th>\n",
       "    </tr>\n",
       "  </thead>\n",
       "  <tbody>\n",
       "    <tr>\n",
       "      <td>0</td>\n",
       "      <td>489434</td>\n",
       "      <td>85048</td>\n",
       "      <td>15CM CHRISTMAS GLASS BALL 20 LIGHTS</td>\n",
       "      <td>12</td>\n",
       "      <td>2009-12-01 07:45:00</td>\n",
       "      <td>6.95</td>\n",
       "      <td>13085.0</td>\n",
       "      <td>United Kingdom</td>\n",
       "      <td>83.4</td>\n",
       "      <td>2009</td>\n",
       "      <td>12</td>\n",
       "      <td>2009-12-01</td>\n",
       "      <td>1</td>\n",
       "      <td>1</td>\n",
       "      <td>2009-12-01</td>\n",
       "    </tr>\n",
       "    <tr>\n",
       "      <td>1</td>\n",
       "      <td>489434</td>\n",
       "      <td>79323P</td>\n",
       "      <td>PINK CHERRY LIGHTS</td>\n",
       "      <td>12</td>\n",
       "      <td>2009-12-01 07:45:00</td>\n",
       "      <td>6.75</td>\n",
       "      <td>13085.0</td>\n",
       "      <td>United Kingdom</td>\n",
       "      <td>81.0</td>\n",
       "      <td>2009</td>\n",
       "      <td>12</td>\n",
       "      <td>2009-12-01</td>\n",
       "      <td>1</td>\n",
       "      <td>1</td>\n",
       "      <td>2009-12-01</td>\n",
       "    </tr>\n",
       "  </tbody>\n",
       "</table>\n",
       "</div>"
      ],
      "text/plain": [
       "  Invoice StockCode                          Description  Quantity  \\\n",
       "0  489434     85048  15CM CHRISTMAS GLASS BALL 20 LIGHTS        12   \n",
       "1  489434    79323P                   PINK CHERRY LIGHTS        12   \n",
       "\n",
       "          InvoiceDate  Price  Customer ID         Country  Revenue  Year  \\\n",
       "0 2009-12-01 07:45:00   6.95      13085.0  United Kingdom     83.4  2009   \n",
       "1 2009-12-01 07:45:00   6.75      13085.0  United Kingdom     81.0  2009   \n",
       "\n",
       "   Month        Date  Day  Weekday        date  \n",
       "0     12  2009-12-01    1        1  2009-12-01  \n",
       "1     12  2009-12-01    1        1  2009-12-01  "
      ]
     },
     "execution_count": 34,
     "metadata": {},
     "output_type": "execute_result"
    }
   ],
   "source": [
    "data['date'] = pd.DatetimeIndex(data['InvoiceDate']).date\n",
    "data.head(2)"
   ]
  },
  {
   "cell_type": "markdown",
   "metadata": {},
   "source": [
    "## Recency (R) "
   ]
  },
  {
   "cell_type": "markdown",
   "metadata": {},
   "source": [
    "Since customers have bought many orders, we have to extract the most recent one."
   ]
  },
  {
   "cell_type": "code",
   "execution_count": 35,
   "metadata": {},
   "outputs": [
    {
     "data": {
      "text/html": [
       "<div>\n",
       "<style scoped>\n",
       "    .dataframe tbody tr th:only-of-type {\n",
       "        vertical-align: middle;\n",
       "    }\n",
       "\n",
       "    .dataframe tbody tr th {\n",
       "        vertical-align: top;\n",
       "    }\n",
       "\n",
       "    .dataframe thead th {\n",
       "        text-align: right;\n",
       "    }\n",
       "</style>\n",
       "<table border=\"1\" class=\"dataframe\">\n",
       "  <thead>\n",
       "    <tr style=\"text-align: right;\">\n",
       "      <th></th>\n",
       "      <th>Customer ID</th>\n",
       "      <th>date</th>\n",
       "    </tr>\n",
       "  </thead>\n",
       "  <tbody>\n",
       "    <tr>\n",
       "      <td>0</td>\n",
       "      <td>12346.0</td>\n",
       "      <td>2010-06-28</td>\n",
       "    </tr>\n",
       "    <tr>\n",
       "      <td>1</td>\n",
       "      <td>12347.0</td>\n",
       "      <td>2010-12-07</td>\n",
       "    </tr>\n",
       "    <tr>\n",
       "      <td>2</td>\n",
       "      <td>12348.0</td>\n",
       "      <td>2010-09-27</td>\n",
       "    </tr>\n",
       "    <tr>\n",
       "      <td>3</td>\n",
       "      <td>12349.0</td>\n",
       "      <td>2010-10-28</td>\n",
       "    </tr>\n",
       "    <tr>\n",
       "      <td>4</td>\n",
       "      <td>12351.0</td>\n",
       "      <td>2010-11-29</td>\n",
       "    </tr>\n",
       "  </tbody>\n",
       "</table>\n",
       "</div>"
      ],
      "text/plain": [
       "   Customer ID        date\n",
       "0      12346.0  2010-06-28\n",
       "1      12347.0  2010-12-07\n",
       "2      12348.0  2010-09-27\n",
       "3      12349.0  2010-10-28\n",
       "4      12351.0  2010-11-29"
      ]
     },
     "execution_count": 35,
     "metadata": {},
     "output_type": "execute_result"
    }
   ],
   "source": [
    "recent = data.groupby(by = 'Customer ID', as_index = False)['date'].max()\n",
    "recent.head(5)"
   ]
  },
  {
   "cell_type": "code",
   "execution_count": 36,
   "metadata": {},
   "outputs": [
    {
     "data": {
      "text/html": [
       "<div>\n",
       "<style scoped>\n",
       "    .dataframe tbody tr th:only-of-type {\n",
       "        vertical-align: middle;\n",
       "    }\n",
       "\n",
       "    .dataframe tbody tr th {\n",
       "        vertical-align: top;\n",
       "    }\n",
       "\n",
       "    .dataframe thead th {\n",
       "        text-align: right;\n",
       "    }\n",
       "</style>\n",
       "<table border=\"1\" class=\"dataframe\">\n",
       "  <thead>\n",
       "    <tr style=\"text-align: right;\">\n",
       "      <th></th>\n",
       "      <th>Customer ID</th>\n",
       "      <th>date</th>\n",
       "      <th>GapOfDays</th>\n",
       "      <th>Recency</th>\n",
       "    </tr>\n",
       "  </thead>\n",
       "  <tbody>\n",
       "    <tr>\n",
       "      <td>0</td>\n",
       "      <td>12346.0</td>\n",
       "      <td>2010-06-28</td>\n",
       "      <td>164 days</td>\n",
       "      <td>164</td>\n",
       "    </tr>\n",
       "    <tr>\n",
       "      <td>1</td>\n",
       "      <td>12347.0</td>\n",
       "      <td>2010-12-07</td>\n",
       "      <td>2 days</td>\n",
       "      <td>2</td>\n",
       "    </tr>\n",
       "    <tr>\n",
       "      <td>2</td>\n",
       "      <td>12348.0</td>\n",
       "      <td>2010-09-27</td>\n",
       "      <td>73 days</td>\n",
       "      <td>73</td>\n",
       "    </tr>\n",
       "    <tr>\n",
       "      <td>3</td>\n",
       "      <td>12349.0</td>\n",
       "      <td>2010-10-28</td>\n",
       "      <td>42 days</td>\n",
       "      <td>42</td>\n",
       "    </tr>\n",
       "    <tr>\n",
       "      <td>4</td>\n",
       "      <td>12351.0</td>\n",
       "      <td>2010-11-29</td>\n",
       "      <td>10 days</td>\n",
       "      <td>10</td>\n",
       "    </tr>\n",
       "  </tbody>\n",
       "</table>\n",
       "</div>"
      ],
      "text/plain": [
       "   Customer ID        date GapOfDays  Recency\n",
       "0      12346.0  2010-06-28  164 days      164\n",
       "1      12347.0  2010-12-07    2 days        2\n",
       "2      12348.0  2010-09-27   73 days       73\n",
       "3      12349.0  2010-10-28   42 days       42\n",
       "4      12351.0  2010-11-29   10 days       10"
      ]
     },
     "execution_count": 36,
     "metadata": {},
     "output_type": "execute_result"
    }
   ],
   "source": [
    "recent['GapOfDays'] = last_date - recent['date']\n",
    "recent['Recency'] = recent['date'].apply(lambda x: (last_date - x).days)\n",
    "recent.head(5)"
   ]
  },
  {
   "cell_type": "markdown",
   "metadata": {},
   "source": [
    "## Frequency (F)"
   ]
  },
  {
   "cell_type": "markdown",
   "metadata": {},
   "source": [
    "Grouping all the orders to see how many orders were placed from the beginning of time."
   ]
  },
  {
   "cell_type": "code",
   "execution_count": 37,
   "metadata": {},
   "outputs": [
    {
     "data": {
      "text/html": [
       "<div>\n",
       "<style scoped>\n",
       "    .dataframe tbody tr th:only-of-type {\n",
       "        vertical-align: middle;\n",
       "    }\n",
       "\n",
       "    .dataframe tbody tr th {\n",
       "        vertical-align: top;\n",
       "    }\n",
       "\n",
       "    .dataframe thead th {\n",
       "        text-align: right;\n",
       "    }\n",
       "</style>\n",
       "<table border=\"1\" class=\"dataframe\">\n",
       "  <thead>\n",
       "    <tr style=\"text-align: right;\">\n",
       "      <th></th>\n",
       "      <th>Customer ID</th>\n",
       "      <th>Frequency</th>\n",
       "    </tr>\n",
       "  </thead>\n",
       "  <tbody>\n",
       "    <tr>\n",
       "      <td>0</td>\n",
       "      <td>12346.0</td>\n",
       "      <td>33</td>\n",
       "    </tr>\n",
       "    <tr>\n",
       "      <td>1</td>\n",
       "      <td>12347.0</td>\n",
       "      <td>71</td>\n",
       "    </tr>\n",
       "    <tr>\n",
       "      <td>2</td>\n",
       "      <td>12348.0</td>\n",
       "      <td>20</td>\n",
       "    </tr>\n",
       "    <tr>\n",
       "      <td>3</td>\n",
       "      <td>12349.0</td>\n",
       "      <td>102</td>\n",
       "    </tr>\n",
       "    <tr>\n",
       "      <td>4</td>\n",
       "      <td>12351.0</td>\n",
       "      <td>21</td>\n",
       "    </tr>\n",
       "  </tbody>\n",
       "</table>\n",
       "</div>"
      ],
      "text/plain": [
       "   Customer ID  Frequency\n",
       "0      12346.0         33\n",
       "1      12347.0         71\n",
       "2      12348.0         20\n",
       "3      12349.0        102\n",
       "4      12351.0         21"
      ]
     },
     "execution_count": 37,
     "metadata": {},
     "output_type": "execute_result"
    }
   ],
   "source": [
    "frequent = data.groupby(by = 'Customer ID', as_index = False)['Invoice'].count()\n",
    "frequent.columns = ['Customer ID', 'Frequency']\n",
    "frequent.head(5)"
   ]
  },
  {
   "cell_type": "markdown",
   "metadata": {},
   "source": [
    "## Monetary (M) "
   ]
  },
  {
   "cell_type": "markdown",
   "metadata": {},
   "source": [
    "Calculating the sum of money spent on all orders by every customer:"
   ]
  },
  {
   "cell_type": "code",
   "execution_count": 38,
   "metadata": {},
   "outputs": [
    {
     "data": {
      "text/html": [
       "<div>\n",
       "<style scoped>\n",
       "    .dataframe tbody tr th:only-of-type {\n",
       "        vertical-align: middle;\n",
       "    }\n",
       "\n",
       "    .dataframe tbody tr th {\n",
       "        vertical-align: top;\n",
       "    }\n",
       "\n",
       "    .dataframe thead th {\n",
       "        text-align: right;\n",
       "    }\n",
       "</style>\n",
       "<table border=\"1\" class=\"dataframe\">\n",
       "  <thead>\n",
       "    <tr style=\"text-align: right;\">\n",
       "      <th></th>\n",
       "      <th>Customer ID</th>\n",
       "      <th>Monetary</th>\n",
       "    </tr>\n",
       "  </thead>\n",
       "  <tbody>\n",
       "    <tr>\n",
       "      <td>0</td>\n",
       "      <td>12346.0</td>\n",
       "      <td>372.86</td>\n",
       "    </tr>\n",
       "    <tr>\n",
       "      <td>1</td>\n",
       "      <td>12347.0</td>\n",
       "      <td>1323.32</td>\n",
       "    </tr>\n",
       "    <tr>\n",
       "      <td>2</td>\n",
       "      <td>12348.0</td>\n",
       "      <td>222.16</td>\n",
       "    </tr>\n",
       "    <tr>\n",
       "      <td>3</td>\n",
       "      <td>12349.0</td>\n",
       "      <td>2671.14</td>\n",
       "    </tr>\n",
       "    <tr>\n",
       "      <td>4</td>\n",
       "      <td>12351.0</td>\n",
       "      <td>300.93</td>\n",
       "    </tr>\n",
       "  </tbody>\n",
       "</table>\n",
       "</div>"
      ],
      "text/plain": [
       "   Customer ID  Monetary\n",
       "0      12346.0    372.86\n",
       "1      12347.0   1323.32\n",
       "2      12348.0    222.16\n",
       "3      12349.0   2671.14\n",
       "4      12351.0    300.93"
      ]
     },
     "execution_count": 38,
     "metadata": {},
     "output_type": "execute_result"
    }
   ],
   "source": [
    "monetary = data.groupby(by = 'Customer ID', as_index = False)['Revenue'].sum()\n",
    "monetary.columns = ['Customer ID', 'Monetary']\n",
    "monetary.head(5)"
   ]
  },
  {
   "cell_type": "markdown",
   "metadata": {},
   "source": [
    "## RFM  "
   ]
  },
  {
   "cell_type": "code",
   "execution_count": 39,
   "metadata": {},
   "outputs": [
    {
     "data": {
      "text/html": [
       "<div>\n",
       "<style scoped>\n",
       "    .dataframe tbody tr th:only-of-type {\n",
       "        vertical-align: middle;\n",
       "    }\n",
       "\n",
       "    .dataframe tbody tr th {\n",
       "        vertical-align: top;\n",
       "    }\n",
       "\n",
       "    .dataframe thead th {\n",
       "        text-align: right;\n",
       "    }\n",
       "</style>\n",
       "<table border=\"1\" class=\"dataframe\">\n",
       "  <thead>\n",
       "    <tr style=\"text-align: right;\">\n",
       "      <th></th>\n",
       "      <th>date</th>\n",
       "      <th>GapOfDays</th>\n",
       "      <th>Recency</th>\n",
       "      <th>Frequency</th>\n",
       "      <th>Monetary</th>\n",
       "    </tr>\n",
       "    <tr>\n",
       "      <th>Customer ID</th>\n",
       "      <th></th>\n",
       "      <th></th>\n",
       "      <th></th>\n",
       "      <th></th>\n",
       "      <th></th>\n",
       "    </tr>\n",
       "  </thead>\n",
       "  <tbody>\n",
       "    <tr>\n",
       "      <td>12346.0</td>\n",
       "      <td>2010-06-28</td>\n",
       "      <td>164 days</td>\n",
       "      <td>164</td>\n",
       "      <td>33</td>\n",
       "      <td>372.86</td>\n",
       "    </tr>\n",
       "    <tr>\n",
       "      <td>12347.0</td>\n",
       "      <td>2010-12-07</td>\n",
       "      <td>2 days</td>\n",
       "      <td>2</td>\n",
       "      <td>71</td>\n",
       "      <td>1323.32</td>\n",
       "    </tr>\n",
       "    <tr>\n",
       "      <td>12348.0</td>\n",
       "      <td>2010-09-27</td>\n",
       "      <td>73 days</td>\n",
       "      <td>73</td>\n",
       "      <td>20</td>\n",
       "      <td>222.16</td>\n",
       "    </tr>\n",
       "    <tr>\n",
       "      <td>12349.0</td>\n",
       "      <td>2010-10-28</td>\n",
       "      <td>42 days</td>\n",
       "      <td>42</td>\n",
       "      <td>102</td>\n",
       "      <td>2671.14</td>\n",
       "    </tr>\n",
       "    <tr>\n",
       "      <td>12351.0</td>\n",
       "      <td>2010-11-29</td>\n",
       "      <td>10 days</td>\n",
       "      <td>10</td>\n",
       "      <td>21</td>\n",
       "      <td>300.93</td>\n",
       "    </tr>\n",
       "  </tbody>\n",
       "</table>\n",
       "</div>"
      ],
      "text/plain": [
       "                   date GapOfDays  Recency  Frequency  Monetary\n",
       "Customer ID                                                    \n",
       "12346.0      2010-06-28  164 days      164         33    372.86\n",
       "12347.0      2010-12-07    2 days        2         71   1323.32\n",
       "12348.0      2010-09-27   73 days       73         20    222.16\n",
       "12349.0      2010-10-28   42 days       42        102   2671.14\n",
       "12351.0      2010-11-29   10 days       10         21    300.93"
      ]
     },
     "execution_count": 39,
     "metadata": {},
     "output_type": "execute_result"
    }
   ],
   "source": [
    "#Merging all the scores:\n",
    "temp = recent.merge(frequent, on ='Customer ID')\n",
    "RFM = temp.merge(monetary, on = 'Customer ID')\n",
    "RFM = RFM.set_index('Customer ID')\n",
    "RFM.head(5)"
   ]
  },
  {
   "cell_type": "markdown",
   "metadata": {},
   "source": [
    "Calculating quantile scores by splitting all the scores into 5 quantiles:"
   ]
  },
  {
   "cell_type": "code",
   "execution_count": 40,
   "metadata": {},
   "outputs": [
    {
     "name": "stdout",
     "output_type": "stream",
     "text": [
      "     Recency  Frequency  Monetary\n",
      "0.2     14.0       15.0   252.172\n",
      "0.4     35.0       32.0   505.966\n",
      "0.6     70.0       61.0   991.432\n",
      "0.8    175.0      127.0  2145.588\n"
     ]
    },
    {
     "data": {
      "text/plain": [
       "{'Recency': {0.2: 14.0, 0.4: 35.0, 0.6: 70.0, 0.8: 175.0},\n",
       " 'Frequency': {0.2: 15.0, 0.4: 32.0, 0.6: 61.0, 0.8: 127.0},\n",
       " 'Monetary': {0.2: 252.172,\n",
       "  0.4: 505.966,\n",
       "  0.6: 991.4319999999994,\n",
       "  0.8: 2145.5880000000006}}"
      ]
     },
     "execution_count": 40,
     "metadata": {},
     "output_type": "execute_result"
    }
   ],
   "source": [
    "rfm_quantiles = RFM.quantile(q=[0.2,0.4,0.6,0.8])\n",
    "print(rfm_quantiles)\n",
    "rfm_quantiles.to_dict()"
   ]
  },
  {
   "cell_type": "markdown",
   "metadata": {},
   "source": [
    "Function to determine scores from 1-5 based on the quantiles formed above:"
   ]
  },
  {
   "cell_type": "code",
   "execution_count": 41,
   "metadata": {},
   "outputs": [],
   "source": [
    "def Recency_Score(x,p,d):\n",
    "    if x <= d[p][0.2]:\n",
    "        return 5\n",
    "    elif x <= d[p][0.4]:\n",
    "        return 4\n",
    "    elif x <= d[p][0.6]: \n",
    "        return 3\n",
    "    elif x <= d[p][0.8]: \n",
    "        return 2\n",
    "    else:\n",
    "        return 1\n",
    "\n",
    "def Frequency_Monetary_Score(x,p,d):\n",
    "    if x <= d[p][0.2]:\n",
    "        return 1\n",
    "    elif x <= d[p][0.4]:\n",
    "        return 2\n",
    "    elif x <= d[p][0.6]: \n",
    "        return 3\n",
    "    elif x <= d[p][0.8]: \n",
    "        return 4\n",
    "    else:\n",
    "        return 5"
   ]
  },
  {
   "cell_type": "code",
   "execution_count": 42,
   "metadata": {
    "scrolled": false
   },
   "outputs": [
    {
     "data": {
      "text/html": [
       "<div>\n",
       "<style scoped>\n",
       "    .dataframe tbody tr th:only-of-type {\n",
       "        vertical-align: middle;\n",
       "    }\n",
       "\n",
       "    .dataframe tbody tr th {\n",
       "        vertical-align: top;\n",
       "    }\n",
       "\n",
       "    .dataframe thead th {\n",
       "        text-align: right;\n",
       "    }\n",
       "</style>\n",
       "<table border=\"1\" class=\"dataframe\">\n",
       "  <thead>\n",
       "    <tr style=\"text-align: right;\">\n",
       "      <th></th>\n",
       "      <th>date</th>\n",
       "      <th>GapOfDays</th>\n",
       "      <th>Recency</th>\n",
       "      <th>Frequency</th>\n",
       "      <th>Monetary</th>\n",
       "      <th>R_Quartile</th>\n",
       "      <th>F_Quartile</th>\n",
       "      <th>M_Quartile</th>\n",
       "    </tr>\n",
       "    <tr>\n",
       "      <th>Customer ID</th>\n",
       "      <th></th>\n",
       "      <th></th>\n",
       "      <th></th>\n",
       "      <th></th>\n",
       "      <th></th>\n",
       "      <th></th>\n",
       "      <th></th>\n",
       "      <th></th>\n",
       "    </tr>\n",
       "  </thead>\n",
       "  <tbody>\n",
       "    <tr>\n",
       "      <td>12346.0</td>\n",
       "      <td>2010-06-28</td>\n",
       "      <td>164 days</td>\n",
       "      <td>164</td>\n",
       "      <td>33</td>\n",
       "      <td>372.86</td>\n",
       "      <td>2</td>\n",
       "      <td>3</td>\n",
       "      <td>2</td>\n",
       "    </tr>\n",
       "    <tr>\n",
       "      <td>12347.0</td>\n",
       "      <td>2010-12-07</td>\n",
       "      <td>2 days</td>\n",
       "      <td>2</td>\n",
       "      <td>71</td>\n",
       "      <td>1323.32</td>\n",
       "      <td>5</td>\n",
       "      <td>4</td>\n",
       "      <td>4</td>\n",
       "    </tr>\n",
       "    <tr>\n",
       "      <td>12348.0</td>\n",
       "      <td>2010-09-27</td>\n",
       "      <td>73 days</td>\n",
       "      <td>73</td>\n",
       "      <td>20</td>\n",
       "      <td>222.16</td>\n",
       "      <td>2</td>\n",
       "      <td>2</td>\n",
       "      <td>1</td>\n",
       "    </tr>\n",
       "    <tr>\n",
       "      <td>12349.0</td>\n",
       "      <td>2010-10-28</td>\n",
       "      <td>42 days</td>\n",
       "      <td>42</td>\n",
       "      <td>102</td>\n",
       "      <td>2671.14</td>\n",
       "      <td>3</td>\n",
       "      <td>4</td>\n",
       "      <td>5</td>\n",
       "    </tr>\n",
       "    <tr>\n",
       "      <td>12351.0</td>\n",
       "      <td>2010-11-29</td>\n",
       "      <td>10 days</td>\n",
       "      <td>10</td>\n",
       "      <td>21</td>\n",
       "      <td>300.93</td>\n",
       "      <td>5</td>\n",
       "      <td>2</td>\n",
       "      <td>2</td>\n",
       "    </tr>\n",
       "  </tbody>\n",
       "</table>\n",
       "</div>"
      ],
      "text/plain": [
       "                   date GapOfDays  Recency  Frequency  Monetary  R_Quartile  \\\n",
       "Customer ID                                                                   \n",
       "12346.0      2010-06-28  164 days      164         33    372.86           2   \n",
       "12347.0      2010-12-07    2 days        2         71   1323.32           5   \n",
       "12348.0      2010-09-27   73 days       73         20    222.16           2   \n",
       "12349.0      2010-10-28   42 days       42        102   2671.14           3   \n",
       "12351.0      2010-11-29   10 days       10         21    300.93           5   \n",
       "\n",
       "             F_Quartile  M_Quartile  \n",
       "Customer ID                          \n",
       "12346.0               3           2  \n",
       "12347.0               4           4  \n",
       "12348.0               2           1  \n",
       "12349.0               4           5  \n",
       "12351.0               2           2  "
      ]
     },
     "execution_count": 42,
     "metadata": {},
     "output_type": "execute_result"
    }
   ],
   "source": [
    "RFM_results = RFM\n",
    "RFM_results['R_Quartile'] = RFM_results['Recency'].apply(Recency_Score, args=('Recency', rfm_quantiles))\n",
    "RFM_results['F_Quartile'] = RFM_results['Frequency'].apply(Frequency_Monetary_Score, args=('Frequency', rfm_quantiles))\n",
    "RFM_results['M_Quartile'] = RFM_results['Monetary'].apply(Frequency_Monetary_Score, args=('Monetary', rfm_quantiles))\n",
    "RFM_results.head(5)"
   ]
  },
  {
   "cell_type": "markdown",
   "metadata": {},
   "source": [
    "RFM Cumulative Score for each customer is calculated by concatenating all the individual scores."
   ]
  },
  {
   "cell_type": "code",
   "execution_count": 43,
   "metadata": {},
   "outputs": [
    {
     "data": {
      "text/html": [
       "<div>\n",
       "<style scoped>\n",
       "    .dataframe tbody tr th:only-of-type {\n",
       "        vertical-align: middle;\n",
       "    }\n",
       "\n",
       "    .dataframe tbody tr th {\n",
       "        vertical-align: top;\n",
       "    }\n",
       "\n",
       "    .dataframe thead th {\n",
       "        text-align: right;\n",
       "    }\n",
       "</style>\n",
       "<table border=\"1\" class=\"dataframe\">\n",
       "  <thead>\n",
       "    <tr style=\"text-align: right;\">\n",
       "      <th></th>\n",
       "      <th>date</th>\n",
       "      <th>GapOfDays</th>\n",
       "      <th>Recency</th>\n",
       "      <th>Frequency</th>\n",
       "      <th>Monetary</th>\n",
       "      <th>R_Quartile</th>\n",
       "      <th>F_Quartile</th>\n",
       "      <th>M_Quartile</th>\n",
       "      <th>RFMScore</th>\n",
       "    </tr>\n",
       "    <tr>\n",
       "      <th>Customer ID</th>\n",
       "      <th></th>\n",
       "      <th></th>\n",
       "      <th></th>\n",
       "      <th></th>\n",
       "      <th></th>\n",
       "      <th></th>\n",
       "      <th></th>\n",
       "      <th></th>\n",
       "      <th></th>\n",
       "    </tr>\n",
       "  </thead>\n",
       "  <tbody>\n",
       "    <tr>\n",
       "      <td>12346.0</td>\n",
       "      <td>2010-06-28</td>\n",
       "      <td>164 days</td>\n",
       "      <td>164</td>\n",
       "      <td>33</td>\n",
       "      <td>372.86</td>\n",
       "      <td>2</td>\n",
       "      <td>3</td>\n",
       "      <td>2</td>\n",
       "      <td>232</td>\n",
       "    </tr>\n",
       "    <tr>\n",
       "      <td>12347.0</td>\n",
       "      <td>2010-12-07</td>\n",
       "      <td>2 days</td>\n",
       "      <td>2</td>\n",
       "      <td>71</td>\n",
       "      <td>1323.32</td>\n",
       "      <td>5</td>\n",
       "      <td>4</td>\n",
       "      <td>4</td>\n",
       "      <td>544</td>\n",
       "    </tr>\n",
       "    <tr>\n",
       "      <td>12348.0</td>\n",
       "      <td>2010-09-27</td>\n",
       "      <td>73 days</td>\n",
       "      <td>73</td>\n",
       "      <td>20</td>\n",
       "      <td>222.16</td>\n",
       "      <td>2</td>\n",
       "      <td>2</td>\n",
       "      <td>1</td>\n",
       "      <td>221</td>\n",
       "    </tr>\n",
       "    <tr>\n",
       "      <td>12349.0</td>\n",
       "      <td>2010-10-28</td>\n",
       "      <td>42 days</td>\n",
       "      <td>42</td>\n",
       "      <td>102</td>\n",
       "      <td>2671.14</td>\n",
       "      <td>3</td>\n",
       "      <td>4</td>\n",
       "      <td>5</td>\n",
       "      <td>345</td>\n",
       "    </tr>\n",
       "    <tr>\n",
       "      <td>12351.0</td>\n",
       "      <td>2010-11-29</td>\n",
       "      <td>10 days</td>\n",
       "      <td>10</td>\n",
       "      <td>21</td>\n",
       "      <td>300.93</td>\n",
       "      <td>5</td>\n",
       "      <td>2</td>\n",
       "      <td>2</td>\n",
       "      <td>522</td>\n",
       "    </tr>\n",
       "  </tbody>\n",
       "</table>\n",
       "</div>"
      ],
      "text/plain": [
       "                   date GapOfDays  Recency  Frequency  Monetary  R_Quartile  \\\n",
       "Customer ID                                                                   \n",
       "12346.0      2010-06-28  164 days      164         33    372.86           2   \n",
       "12347.0      2010-12-07    2 days        2         71   1323.32           5   \n",
       "12348.0      2010-09-27   73 days       73         20    222.16           2   \n",
       "12349.0      2010-10-28   42 days       42        102   2671.14           3   \n",
       "12351.0      2010-11-29   10 days       10         21    300.93           5   \n",
       "\n",
       "             F_Quartile  M_Quartile RFMScore  \n",
       "Customer ID                                   \n",
       "12346.0               3           2      232  \n",
       "12347.0               4           4      544  \n",
       "12348.0               2           1      221  \n",
       "12349.0               4           5      345  \n",
       "12351.0               2           2      522  "
      ]
     },
     "execution_count": 43,
     "metadata": {},
     "output_type": "execute_result"
    }
   ],
   "source": [
    "RFM_results['RFMScore'] = RFM_results.R_Quartile.map(str) \\\n",
    "                            + RFM_results.F_Quartile.map(str) \\\n",
    "                            + RFM_results.M_Quartile.map(str)\n",
    "RFM_results.head()"
   ]
  },
  {
   "cell_type": "code",
   "execution_count": 44,
   "metadata": {},
   "outputs": [],
   "source": [
    "#RFM_results.sort_values('Recency').head(10)"
   ]
  },
  {
   "cell_type": "code",
   "execution_count": 45,
   "metadata": {},
   "outputs": [
    {
     "data": {
      "text/html": [
       "<div>\n",
       "<style scoped>\n",
       "    .dataframe tbody tr th:only-of-type {\n",
       "        vertical-align: middle;\n",
       "    }\n",
       "\n",
       "    .dataframe tbody tr th {\n",
       "        vertical-align: top;\n",
       "    }\n",
       "\n",
       "    .dataframe thead th {\n",
       "        text-align: right;\n",
       "    }\n",
       "</style>\n",
       "<table border=\"1\" class=\"dataframe\">\n",
       "  <thead>\n",
       "    <tr style=\"text-align: right;\">\n",
       "      <th></th>\n",
       "      <th>date</th>\n",
       "      <th>GapOfDays</th>\n",
       "      <th>Recency</th>\n",
       "      <th>Frequency</th>\n",
       "      <th>Monetary</th>\n",
       "      <th>R_Quartile</th>\n",
       "      <th>F_Quartile</th>\n",
       "      <th>M_Quartile</th>\n",
       "      <th>RFMScore</th>\n",
       "      <th>Total</th>\n",
       "    </tr>\n",
       "    <tr>\n",
       "      <th>Customer ID</th>\n",
       "      <th></th>\n",
       "      <th></th>\n",
       "      <th></th>\n",
       "      <th></th>\n",
       "      <th></th>\n",
       "      <th></th>\n",
       "      <th></th>\n",
       "      <th></th>\n",
       "      <th></th>\n",
       "      <th></th>\n",
       "    </tr>\n",
       "  </thead>\n",
       "  <tbody>\n",
       "    <tr>\n",
       "      <td>12346.0</td>\n",
       "      <td>2010-06-28</td>\n",
       "      <td>164 days</td>\n",
       "      <td>164</td>\n",
       "      <td>33</td>\n",
       "      <td>372.86</td>\n",
       "      <td>2</td>\n",
       "      <td>3</td>\n",
       "      <td>2</td>\n",
       "      <td>232</td>\n",
       "      <td>7</td>\n",
       "    </tr>\n",
       "    <tr>\n",
       "      <td>12347.0</td>\n",
       "      <td>2010-12-07</td>\n",
       "      <td>2 days</td>\n",
       "      <td>2</td>\n",
       "      <td>71</td>\n",
       "      <td>1323.32</td>\n",
       "      <td>5</td>\n",
       "      <td>4</td>\n",
       "      <td>4</td>\n",
       "      <td>544</td>\n",
       "      <td>13</td>\n",
       "    </tr>\n",
       "    <tr>\n",
       "      <td>12348.0</td>\n",
       "      <td>2010-09-27</td>\n",
       "      <td>73 days</td>\n",
       "      <td>73</td>\n",
       "      <td>20</td>\n",
       "      <td>222.16</td>\n",
       "      <td>2</td>\n",
       "      <td>2</td>\n",
       "      <td>1</td>\n",
       "      <td>221</td>\n",
       "      <td>5</td>\n",
       "    </tr>\n",
       "    <tr>\n",
       "      <td>12349.0</td>\n",
       "      <td>2010-10-28</td>\n",
       "      <td>42 days</td>\n",
       "      <td>42</td>\n",
       "      <td>102</td>\n",
       "      <td>2671.14</td>\n",
       "      <td>3</td>\n",
       "      <td>4</td>\n",
       "      <td>5</td>\n",
       "      <td>345</td>\n",
       "      <td>12</td>\n",
       "    </tr>\n",
       "    <tr>\n",
       "      <td>12351.0</td>\n",
       "      <td>2010-11-29</td>\n",
       "      <td>10 days</td>\n",
       "      <td>10</td>\n",
       "      <td>21</td>\n",
       "      <td>300.93</td>\n",
       "      <td>5</td>\n",
       "      <td>2</td>\n",
       "      <td>2</td>\n",
       "      <td>522</td>\n",
       "      <td>9</td>\n",
       "    </tr>\n",
       "  </tbody>\n",
       "</table>\n",
       "</div>"
      ],
      "text/plain": [
       "                   date GapOfDays  Recency  Frequency  Monetary  R_Quartile  \\\n",
       "Customer ID                                                                   \n",
       "12346.0      2010-06-28  164 days      164         33    372.86           2   \n",
       "12347.0      2010-12-07    2 days        2         71   1323.32           5   \n",
       "12348.0      2010-09-27   73 days       73         20    222.16           2   \n",
       "12349.0      2010-10-28   42 days       42        102   2671.14           3   \n",
       "12351.0      2010-11-29   10 days       10         21    300.93           5   \n",
       "\n",
       "             F_Quartile  M_Quartile RFMScore  Total  \n",
       "Customer ID                                          \n",
       "12346.0               3           2      232      7  \n",
       "12347.0               4           4      544     13  \n",
       "12348.0               2           1      221      5  \n",
       "12349.0               4           5      345     12  \n",
       "12351.0               2           2      522      9  "
      ]
     },
     "execution_count": 45,
     "metadata": {},
     "output_type": "execute_result"
    }
   ],
   "source": [
    "#Calculating the sum of R,F,M scores:\n",
    "RFM_results['Total'] = RFM_results['R_Quartile'] + RFM_results['F_Quartile'] + RFM_results['M_Quartile']\n",
    "RFM_results.head()"
   ]
  },
  {
   "cell_type": "markdown",
   "metadata": {},
   "source": [
    "A Mapping Function to segment the customers based on the RFM score. 10 categories: (5 quantiles x 2 variables)"
   ]
  },
  {
   "cell_type": "code",
   "execution_count": 46,
   "metadata": {},
   "outputs": [
    {
     "data": {
      "text/html": [
       "<div>\n",
       "<style scoped>\n",
       "    .dataframe tbody tr th:only-of-type {\n",
       "        vertical-align: middle;\n",
       "    }\n",
       "\n",
       "    .dataframe tbody tr th {\n",
       "        vertical-align: top;\n",
       "    }\n",
       "\n",
       "    .dataframe thead th {\n",
       "        text-align: right;\n",
       "    }\n",
       "</style>\n",
       "<table border=\"1\" class=\"dataframe\">\n",
       "  <thead>\n",
       "    <tr style=\"text-align: right;\">\n",
       "      <th></th>\n",
       "      <th>date</th>\n",
       "      <th>GapOfDays</th>\n",
       "      <th>Recency</th>\n",
       "      <th>Frequency</th>\n",
       "      <th>Monetary</th>\n",
       "      <th>R_Quartile</th>\n",
       "      <th>F_Quartile</th>\n",
       "      <th>M_Quartile</th>\n",
       "      <th>RFMScore</th>\n",
       "      <th>Total</th>\n",
       "      <th>Segment</th>\n",
       "    </tr>\n",
       "    <tr>\n",
       "      <th>Customer ID</th>\n",
       "      <th></th>\n",
       "      <th></th>\n",
       "      <th></th>\n",
       "      <th></th>\n",
       "      <th></th>\n",
       "      <th></th>\n",
       "      <th></th>\n",
       "      <th></th>\n",
       "      <th></th>\n",
       "      <th></th>\n",
       "      <th></th>\n",
       "    </tr>\n",
       "  </thead>\n",
       "  <tbody>\n",
       "    <tr>\n",
       "      <td>12346.0</td>\n",
       "      <td>2010-06-28</td>\n",
       "      <td>164 days</td>\n",
       "      <td>164</td>\n",
       "      <td>33</td>\n",
       "      <td>372.86</td>\n",
       "      <td>2</td>\n",
       "      <td>3</td>\n",
       "      <td>2</td>\n",
       "      <td>232</td>\n",
       "      <td>7</td>\n",
       "      <td>At risk of being Inactive</td>\n",
       "    </tr>\n",
       "    <tr>\n",
       "      <td>12347.0</td>\n",
       "      <td>2010-12-07</td>\n",
       "      <td>2 days</td>\n",
       "      <td>2</td>\n",
       "      <td>71</td>\n",
       "      <td>1323.32</td>\n",
       "      <td>5</td>\n",
       "      <td>4</td>\n",
       "      <td>4</td>\n",
       "      <td>544</td>\n",
       "      <td>13</td>\n",
       "      <td>Best customers</td>\n",
       "    </tr>\n",
       "    <tr>\n",
       "      <td>12348.0</td>\n",
       "      <td>2010-09-27</td>\n",
       "      <td>73 days</td>\n",
       "      <td>73</td>\n",
       "      <td>20</td>\n",
       "      <td>222.16</td>\n",
       "      <td>2</td>\n",
       "      <td>2</td>\n",
       "      <td>1</td>\n",
       "      <td>221</td>\n",
       "      <td>5</td>\n",
       "      <td>Inactive</td>\n",
       "    </tr>\n",
       "    <tr>\n",
       "      <td>12349.0</td>\n",
       "      <td>2010-10-28</td>\n",
       "      <td>42 days</td>\n",
       "      <td>42</td>\n",
       "      <td>102</td>\n",
       "      <td>2671.14</td>\n",
       "      <td>3</td>\n",
       "      <td>4</td>\n",
       "      <td>5</td>\n",
       "      <td>345</td>\n",
       "      <td>12</td>\n",
       "      <td>Satisfied Customers</td>\n",
       "    </tr>\n",
       "    <tr>\n",
       "      <td>12351.0</td>\n",
       "      <td>2010-11-29</td>\n",
       "      <td>10 days</td>\n",
       "      <td>10</td>\n",
       "      <td>21</td>\n",
       "      <td>300.93</td>\n",
       "      <td>5</td>\n",
       "      <td>2</td>\n",
       "      <td>2</td>\n",
       "      <td>522</td>\n",
       "      <td>9</td>\n",
       "      <td>Potential Satified Customers</td>\n",
       "    </tr>\n",
       "  </tbody>\n",
       "</table>\n",
       "</div>"
      ],
      "text/plain": [
       "                   date GapOfDays  Recency  Frequency  Monetary  R_Quartile  \\\n",
       "Customer ID                                                                   \n",
       "12346.0      2010-06-28  164 days      164         33    372.86           2   \n",
       "12347.0      2010-12-07    2 days        2         71   1323.32           5   \n",
       "12348.0      2010-09-27   73 days       73         20    222.16           2   \n",
       "12349.0      2010-10-28   42 days       42        102   2671.14           3   \n",
       "12351.0      2010-11-29   10 days       10         21    300.93           5   \n",
       "\n",
       "             F_Quartile  M_Quartile RFMScore  Total  \\\n",
       "Customer ID                                           \n",
       "12346.0               3           2      232      7   \n",
       "12347.0               4           4      544     13   \n",
       "12348.0               2           1      221      5   \n",
       "12349.0               4           5      345     12   \n",
       "12351.0               2           2      522      9   \n",
       "\n",
       "                                  Segment  \n",
       "Customer ID                                \n",
       "12346.0         At risk of being Inactive  \n",
       "12347.0                    Best customers  \n",
       "12348.0                          Inactive  \n",
       "12349.0               Satisfied Customers  \n",
       "12351.0      Potential Satified Customers  "
      ]
     },
     "execution_count": 46,
     "metadata": {},
     "output_type": "execute_result"
    }
   ],
   "source": [
    "segmentation = {\n",
    "    r'[1-2][1-2]': 'Inactive',\n",
    "    r'3[1-2]': 'About to be Inactive ',\n",
    "    r'[1-2][3-4]': 'At risk of being Inactive',\n",
    "    r'[3-4][4-5]': 'Satisfied Customers',\n",
    "    r'[4-5][2-3]': 'Potential Satified Customers',\n",
    "    r'33': 'Need Attention',\n",
    "    r'41': 'New - need attention',\n",
    "    r'51': 'Newbies',\n",
    "    r'5[4-5]': 'Best customers',\n",
    "    r'[1-2]5': 'Important - about to be Lost'}\n",
    "\n",
    "RFM_results['Segment'] = RFM_results['R_Quartile'].map(str) + RFM_results['F_Quartile'].map(str)\n",
    "RFM_results['Segment'] = RFM_results['Segment'].replace(segmentation, regex=True)\n",
    "\n",
    "RFM_results.head()"
   ]
  },
  {
   "cell_type": "code",
   "execution_count": 47,
   "metadata": {},
   "outputs": [],
   "source": [
    "segmentation = pd.DataFrame(RFM_results['Segment'].value_counts())"
   ]
  },
  {
   "cell_type": "code",
   "execution_count": 48,
   "metadata": {},
   "outputs": [
    {
     "data": {
      "image/png": "[encoded data removed]",
      "text/plain": [
       "<Figure size 720x720 with 1 Axes>"
      ]
     },
     "metadata": {},
     "output_type": "display_data"
    }
   ],
   "source": [
    "#Plot to visualize the segments of customers\n",
    "f, ax = plt.subplots(figsize=(10, 10))\n",
    "sns.set(style=\"whitegrid\", color_codes=True)\n",
    "sns.barplot(x = 'Segment', y = segmentation.index, data=segmentation, palette = 'BuGn_r').set_title('Customer Segmentaion - Recency & Frequency')\n",
    "sns.despine(left=True, bottom=True)"
   ]
  },
  {
   "cell_type": "code",
   "execution_count": 49,
   "metadata": {},
   "outputs": [
    {
     "data": {
      "text/html": [
       "<div>\n",
       "<style scoped>\n",
       "    .dataframe tbody tr th:only-of-type {\n",
       "        vertical-align: middle;\n",
       "    }\n",
       "\n",
       "    .dataframe tbody tr th {\n",
       "        vertical-align: top;\n",
       "    }\n",
       "\n",
       "    .dataframe thead th {\n",
       "        text-align: right;\n",
       "    }\n",
       "</style>\n",
       "<table border=\"1\" class=\"dataframe\">\n",
       "  <thead>\n",
       "    <tr style=\"text-align: right;\">\n",
       "      <th></th>\n",
       "      <th>Category</th>\n",
       "      <th>Count</th>\n",
       "    </tr>\n",
       "  </thead>\n",
       "  <tbody>\n",
       "    <tr>\n",
       "      <td>0</td>\n",
       "      <td>Big Spenders</td>\n",
       "      <td>863</td>\n",
       "    </tr>\n",
       "    <tr>\n",
       "      <td>1</td>\n",
       "      <td>Low value but Frequent</td>\n",
       "      <td>4</td>\n",
       "    </tr>\n",
       "    <tr>\n",
       "      <td>2</td>\n",
       "      <td>Lost Low Value Customers</td>\n",
       "      <td>260</td>\n",
       "    </tr>\n",
       "    <tr>\n",
       "      <td>3</td>\n",
       "      <td>Mid-range</td>\n",
       "      <td>273</td>\n",
       "    </tr>\n",
       "  </tbody>\n",
       "</table>\n",
       "</div>"
      ],
      "text/plain": [
       "                   Category  Count\n",
       "0              Big Spenders    863\n",
       "1    Low value but Frequent      4\n",
       "2  Lost Low Value Customers    260\n",
       "3                 Mid-range    273"
      ]
     },
     "execution_count": 49,
     "metadata": {},
     "output_type": "execute_result"
    }
   ],
   "source": [
    "#Monetary score analysis\n",
    "\n",
    "big_spenders = len(RFM_results[RFM_results['M_Quartile']==5])\n",
    "monetary = pd.DataFrame()\n",
    "monetary['Category'] = ['Big Spenders', 'Low value but Frequent', 'Lost Low Value Customers', 'Mid-range']\n",
    "monetary['Count'] = [len(RFM_results[RFM_results['M_Quartile']==5]), (len(RFM_results[RFM_results['RFMScore']=='441']) + \n",
    "                     len(RFM_results[RFM_results['RFMScore']=='541']) + len(RFM_results[RFM_results['RFMScore']=='451'])), \n",
    "                     len(RFM_results[RFM_results['RFMScore']=='111']), (len(RFM_results[RFM_results['RFMScore']=='333'])+\n",
    "                     len(RFM_results[RFM_results['RFMScore']=='433']) + len(RFM_results[RFM_results['RFMScore']=='533']) + \n",
    "                     len(RFM_results[RFM_results['RFMScore']=='343']) + len(RFM_results[RFM_results['RFMScore']=='353']))]                                  \n",
    "\n",
    "monetary"
   ]
  },
  {
   "cell_type": "code",
   "execution_count": 50,
   "metadata": {},
   "outputs": [
    {
     "data": {
      "image/png": "[encoded data removed]",
      "text/plain": [
       "<Figure size 720x720 with 1 Axes>"
      ]
     },
     "metadata": {},
     "output_type": "display_data"
    }
   ],
   "source": [
    "f, ax = plt.subplots(figsize=(10, 10))\n",
    "sns.set(style=\"whitegrid\", color_codes=True)\n",
    "sns.barplot(x = 'Category', y = 'Count', data=monetary.sort_values(by = 'Count', ascending = False), palette = sns.cubehelix_palette(8)).set_title('Customer Segmentaion - Monetary')\n",
    "sns.despine(left=True, bottom=True)"
   ]
  }
 ],
 "metadata": {
  "kernelspec": {
   "display_name": "Python 3",
   "language": "python",
   "name": "python3"
  },
  "language_info": {
   "codemirror_mode": {
    "name": "ipython",
    "version": 3
   },
   "file_extension": ".py",
   "mimetype": "text/x-python",
   "name": "python",
   "nbconvert_exporter": "python",
   "pygments_lexer": "ipython3",
   "version": "3.7.4"
  }
 },
 "nbformat": 4,
 "nbformat_minor": 2
}
